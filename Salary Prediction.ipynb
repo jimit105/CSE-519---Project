{
 "cells": [
  {
   "cell_type": "markdown",
   "id": "44d7455f",
   "metadata": {},
   "source": [
    "_author_: **Jimit Dholakia**"
   ]
  },
  {
   "cell_type": "code",
   "execution_count": 1,
   "id": "94ae7119",
   "metadata": {},
   "outputs": [],
   "source": [
    "import warnings\n",
    "warnings.filterwarnings('ignore')"
   ]
  },
  {
   "cell_type": "code",
   "execution_count": 2,
   "id": "283ad7ce",
   "metadata": {},
   "outputs": [],
   "source": [
    "import pandas as pd\n",
    "import json\n",
    "import numpy as np\n",
    "np.random.seed(105)\n",
    "\n",
    "from tqdm.auto import tqdm\n",
    "from pprint import pprint\n",
    "from ast import literal_eval"
   ]
  },
  {
   "cell_type": "code",
   "execution_count": 3,
   "id": "61cc2c3c",
   "metadata": {},
   "outputs": [
    {
     "data": {
      "text/plain": [
       "Parallel(n_jobs=-1)"
      ]
     },
     "execution_count": 3,
     "metadata": {},
     "output_type": "execute_result"
    }
   ],
   "source": [
    "import joblib\n",
    "joblib.Parallel(n_jobs=-1)"
   ]
  },
  {
   "cell_type": "code",
   "execution_count": 4,
   "id": "a93737a0",
   "metadata": {},
   "outputs": [],
   "source": [
    "df = pd.read_csv('Job Information.csv')\n",
    "\n",
    "df['Educational Levels'] = df['Educational Levels'].str.replace('\\'', '\\\"')\n",
    "df['Educational Levels'] = df['Educational Levels'].apply(json.loads)\n",
    "\n",
    "df.loc[:,'Skills'] = df.loc[:,'Skills'].apply(lambda x: literal_eval(x))\n",
    "# df['Skills'] = df['Skills'].apply(json.loads)\n",
    "df['Skills'] = df['Skills'].apply(lambda x: ', '.join(map(str, x)))"
   ]
  },
  {
   "cell_type": "code",
   "execution_count": 5,
   "id": "56510252",
   "metadata": {},
   "outputs": [
    {
     "data": {
      "text/html": [
       "<div>\n",
       "<style scoped>\n",
       "    .dataframe tbody tr th:only-of-type {\n",
       "        vertical-align: middle;\n",
       "    }\n",
       "\n",
       "    .dataframe tbody tr th {\n",
       "        vertical-align: top;\n",
       "    }\n",
       "\n",
       "    .dataframe thead th {\n",
       "        text-align: right;\n",
       "    }\n",
       "</style>\n",
       "<table border=\"1\" class=\"dataframe\">\n",
       "  <thead>\n",
       "    <tr style=\"text-align: right;\">\n",
       "      <th></th>\n",
       "      <th>Main Category</th>\n",
       "      <th>Sub Category</th>\n",
       "      <th>Sub Category Link</th>\n",
       "      <th>Job Title</th>\n",
       "      <th>Job Title Link</th>\n",
       "      <th>Salary</th>\n",
       "      <th>Salary Link</th>\n",
       "      <th>Average Salary</th>\n",
       "      <th>Educational Levels</th>\n",
       "      <th>No of Candidates</th>\n",
       "      <th>No of Jobs</th>\n",
       "      <th>Skills</th>\n",
       "    </tr>\n",
       "  </thead>\n",
       "  <tbody>\n",
       "    <tr>\n",
       "      <th>0</th>\n",
       "      <td>Accounting and Financial Jobs</td>\n",
       "      <td>Accounting and Auditing</td>\n",
       "      <td>https://www.careerbuilder.com/browse/category/...</td>\n",
       "      <td>Account Manager</td>\n",
       "      <td>https://www.careerbuilder.com/jobs-account-man...</td>\n",
       "      <td>$73895</td>\n",
       "      <td>https://www.careerbuilder.com/salary-account-m...</td>\n",
       "      <td>$75,500</td>\n",
       "      <td>{'VOCATIONAL': '$56,500', 'HIGH SCHOOL': '$55,...</td>\n",
       "      <td>1,664,228</td>\n",
       "      <td>16,704,086</td>\n",
       "      <td>Business Development, Negotiation, Customer Re...</td>\n",
       "    </tr>\n",
       "    <tr>\n",
       "      <th>1</th>\n",
       "      <td>Accounting and Financial Jobs</td>\n",
       "      <td>Accounting and Auditing</td>\n",
       "      <td>https://www.careerbuilder.com/browse/category/...</td>\n",
       "      <td>Accountant</td>\n",
       "      <td>https://www.careerbuilder.com/jobs-accountant</td>\n",
       "      <td>$61416</td>\n",
       "      <td>https://www.careerbuilder.com/salary-accountant</td>\n",
       "      <td>$76,000</td>\n",
       "      <td>{'VOCATIONAL': '$53,000', 'HIGH SCHOOL': '$54,...</td>\n",
       "      <td>204,372</td>\n",
       "      <td>2,239,450</td>\n",
       "      <td>Financial Transactions, Financial Statements, ...</td>\n",
       "    </tr>\n",
       "    <tr>\n",
       "      <th>2</th>\n",
       "      <td>Accounting and Financial Jobs</td>\n",
       "      <td>Accounting and Auditing</td>\n",
       "      <td>https://www.careerbuilder.com/browse/category/...</td>\n",
       "      <td>Accounting</td>\n",
       "      <td>https://www.careerbuilder.com/jobs-accounting</td>\n",
       "      <td>$64548</td>\n",
       "      <td>https://www.careerbuilder.com/salary-accounting</td>\n",
       "      <td>$72,000</td>\n",
       "      <td>{'VOCATIONAL': '$54,000', 'HIGH SCHOOL': '$52,...</td>\n",
       "      <td>3,384,564</td>\n",
       "      <td>44,464,804</td>\n",
       "      <td>Financial Transactions, Financial Statements, ...</td>\n",
       "    </tr>\n",
       "    <tr>\n",
       "      <th>3</th>\n",
       "      <td>Accounting and Financial Jobs</td>\n",
       "      <td>Accounting and Auditing</td>\n",
       "      <td>https://www.careerbuilder.com/browse/category/...</td>\n",
       "      <td>Accounting Assistant</td>\n",
       "      <td>https://www.careerbuilder.com/jobs-accounting-...</td>\n",
       "      <td>$40171</td>\n",
       "      <td>https://www.careerbuilder.com/salary-accountin...</td>\n",
       "      <td>$62,500</td>\n",
       "      <td>{'VOCATIONAL': '$47,000', 'HIGH SCHOOL': '$47,...</td>\n",
       "      <td>810,785</td>\n",
       "      <td>5,174,493</td>\n",
       "      <td>Financial Transactions, Accounting, Financial ...</td>\n",
       "    </tr>\n",
       "    <tr>\n",
       "      <th>4</th>\n",
       "      <td>Accounting and Financial Jobs</td>\n",
       "      <td>Accounting and Auditing</td>\n",
       "      <td>https://www.careerbuilder.com/browse/category/...</td>\n",
       "      <td>Accounting Clerk</td>\n",
       "      <td>https://www.careerbuilder.com/jobs-accounting-...</td>\n",
       "      <td>$40207</td>\n",
       "      <td>https://www.careerbuilder.com/salary-accountin...</td>\n",
       "      <td>$48,500</td>\n",
       "      <td>{'VOCATIONAL': '$42,500', 'HIGH SCHOOL': '$44,...</td>\n",
       "      <td>245,969</td>\n",
       "      <td>1,725,547</td>\n",
       "      <td>Financial Transactions, Financial Statements, ...</td>\n",
       "    </tr>\n",
       "  </tbody>\n",
       "</table>\n",
       "</div>"
      ],
      "text/plain": [
       "                   Main Category             Sub Category  \\\n",
       "0  Accounting and Financial Jobs  Accounting and Auditing   \n",
       "1  Accounting and Financial Jobs  Accounting and Auditing   \n",
       "2  Accounting and Financial Jobs  Accounting and Auditing   \n",
       "3  Accounting and Financial Jobs  Accounting and Auditing   \n",
       "4  Accounting and Financial Jobs  Accounting and Auditing   \n",
       "\n",
       "                                   Sub Category Link             Job Title  \\\n",
       "0  https://www.careerbuilder.com/browse/category/...       Account Manager   \n",
       "1  https://www.careerbuilder.com/browse/category/...            Accountant   \n",
       "2  https://www.careerbuilder.com/browse/category/...            Accounting   \n",
       "3  https://www.careerbuilder.com/browse/category/...  Accounting Assistant   \n",
       "4  https://www.careerbuilder.com/browse/category/...      Accounting Clerk   \n",
       "\n",
       "                                      Job Title Link  Salary  \\\n",
       "0  https://www.careerbuilder.com/jobs-account-man...  $73895   \n",
       "1      https://www.careerbuilder.com/jobs-accountant  $61416   \n",
       "2      https://www.careerbuilder.com/jobs-accounting  $64548   \n",
       "3  https://www.careerbuilder.com/jobs-accounting-...  $40171   \n",
       "4  https://www.careerbuilder.com/jobs-accounting-...  $40207   \n",
       "\n",
       "                                         Salary Link Average Salary  \\\n",
       "0  https://www.careerbuilder.com/salary-account-m...        $75,500   \n",
       "1    https://www.careerbuilder.com/salary-accountant        $76,000   \n",
       "2    https://www.careerbuilder.com/salary-accounting        $72,000   \n",
       "3  https://www.careerbuilder.com/salary-accountin...        $62,500   \n",
       "4  https://www.careerbuilder.com/salary-accountin...        $48,500   \n",
       "\n",
       "                                  Educational Levels No of Candidates  \\\n",
       "0  {'VOCATIONAL': '$56,500', 'HIGH SCHOOL': '$55,...        1,664,228   \n",
       "1  {'VOCATIONAL': '$53,000', 'HIGH SCHOOL': '$54,...          204,372   \n",
       "2  {'VOCATIONAL': '$54,000', 'HIGH SCHOOL': '$52,...        3,384,564   \n",
       "3  {'VOCATIONAL': '$47,000', 'HIGH SCHOOL': '$47,...          810,785   \n",
       "4  {'VOCATIONAL': '$42,500', 'HIGH SCHOOL': '$44,...          245,969   \n",
       "\n",
       "   No of Jobs                                             Skills  \n",
       "0  16,704,086  Business Development, Negotiation, Customer Re...  \n",
       "1   2,239,450  Financial Transactions, Financial Statements, ...  \n",
       "2  44,464,804  Financial Transactions, Financial Statements, ...  \n",
       "3   5,174,493  Financial Transactions, Accounting, Financial ...  \n",
       "4   1,725,547  Financial Transactions, Financial Statements, ...  "
      ]
     },
     "execution_count": 5,
     "metadata": {},
     "output_type": "execute_result"
    }
   ],
   "source": [
    "df.head()"
   ]
  },
  {
   "cell_type": "code",
   "execution_count": 6,
   "id": "51dbeebe",
   "metadata": {},
   "outputs": [],
   "source": [
    "df = pd.concat([df, pd.json_normalize(df['Educational Levels'])], axis=1)\n",
    "\n",
    "df = df[['Job Title', 'Skills', 'VOCATIONAL', 'HIGH SCHOOL', 'ASSOCIATE', 'BACHELOR', 'MASTER', 'DOCTORATE', 'Average Salary']]\n",
    "df.rename({'Average Salary': 'NOT SPECIFIED'}, axis=1, inplace=True)"
   ]
  },
  {
   "cell_type": "code",
   "execution_count": 7,
   "id": "e7d5448b",
   "metadata": {
    "scrolled": true
   },
   "outputs": [
    {
     "data": {
      "text/html": [
       "<div>\n",
       "<style scoped>\n",
       "    .dataframe tbody tr th:only-of-type {\n",
       "        vertical-align: middle;\n",
       "    }\n",
       "\n",
       "    .dataframe tbody tr th {\n",
       "        vertical-align: top;\n",
       "    }\n",
       "\n",
       "    .dataframe thead th {\n",
       "        text-align: right;\n",
       "    }\n",
       "</style>\n",
       "<table border=\"1\" class=\"dataframe\">\n",
       "  <thead>\n",
       "    <tr style=\"text-align: right;\">\n",
       "      <th></th>\n",
       "      <th>Job Title</th>\n",
       "      <th>Skills</th>\n",
       "      <th>VOCATIONAL</th>\n",
       "      <th>HIGH SCHOOL</th>\n",
       "      <th>ASSOCIATE</th>\n",
       "      <th>BACHELOR</th>\n",
       "      <th>MASTER</th>\n",
       "      <th>DOCTORATE</th>\n",
       "      <th>NOT SPECIFIED</th>\n",
       "    </tr>\n",
       "  </thead>\n",
       "  <tbody>\n",
       "    <tr>\n",
       "      <th>0</th>\n",
       "      <td>Account Manager</td>\n",
       "      <td>Business Development, Negotiation, Customer Re...</td>\n",
       "      <td>$56,500</td>\n",
       "      <td>$55,000</td>\n",
       "      <td>$59,500</td>\n",
       "      <td>$75,500</td>\n",
       "      <td>$87,500</td>\n",
       "      <td>$94,000</td>\n",
       "      <td>$75,500</td>\n",
       "    </tr>\n",
       "    <tr>\n",
       "      <th>1</th>\n",
       "      <td>Accountant</td>\n",
       "      <td>Financial Transactions, Financial Statements, ...</td>\n",
       "      <td>$53,000</td>\n",
       "      <td>$54,500</td>\n",
       "      <td>$57,500</td>\n",
       "      <td>$72,500</td>\n",
       "      <td>$80,000</td>\n",
       "      <td>$79,000</td>\n",
       "      <td>$76,000</td>\n",
       "    </tr>\n",
       "    <tr>\n",
       "      <th>2</th>\n",
       "      <td>Accounting</td>\n",
       "      <td>Financial Transactions, Financial Statements, ...</td>\n",
       "      <td>$54,000</td>\n",
       "      <td>$52,500</td>\n",
       "      <td>$57,000</td>\n",
       "      <td>$69,500</td>\n",
       "      <td>$79,500</td>\n",
       "      <td>$86,500</td>\n",
       "      <td>$72,000</td>\n",
       "    </tr>\n",
       "    <tr>\n",
       "      <th>3</th>\n",
       "      <td>Accounting Assistant</td>\n",
       "      <td>Financial Transactions, Accounting, Financial ...</td>\n",
       "      <td>$47,000</td>\n",
       "      <td>$47,500</td>\n",
       "      <td>$49,500</td>\n",
       "      <td>$60,500</td>\n",
       "      <td>$68,500</td>\n",
       "      <td>$77,000</td>\n",
       "      <td>$62,500</td>\n",
       "    </tr>\n",
       "    <tr>\n",
       "      <th>4</th>\n",
       "      <td>Accounting Clerk</td>\n",
       "      <td>Financial Transactions, Financial Statements, ...</td>\n",
       "      <td>$42,500</td>\n",
       "      <td>$44,500</td>\n",
       "      <td>$44,500</td>\n",
       "      <td>$50,000</td>\n",
       "      <td>$53,500</td>\n",
       "      <td>$60,000</td>\n",
       "      <td>$48,500</td>\n",
       "    </tr>\n",
       "    <tr>\n",
       "      <th>...</th>\n",
       "      <td>...</td>\n",
       "      <td>...</td>\n",
       "      <td>...</td>\n",
       "      <td>...</td>\n",
       "      <td>...</td>\n",
       "      <td>...</td>\n",
       "      <td>...</td>\n",
       "      <td>...</td>\n",
       "      <td>...</td>\n",
       "    </tr>\n",
       "    <tr>\n",
       "      <th>1713</th>\n",
       "      <td>Truck Driving</td>\n",
       "      <td></td>\n",
       "      <td>$50,000</td>\n",
       "      <td>$52,000</td>\n",
       "      <td>$56,000</td>\n",
       "      <td>$67,000</td>\n",
       "      <td>$75,500</td>\n",
       "      <td>$81,000</td>\n",
       "      <td>$61,500</td>\n",
       "    </tr>\n",
       "    <tr>\n",
       "      <th>1714</th>\n",
       "      <td>Truck Unloader</td>\n",
       "      <td></td>\n",
       "      <td>$41,500</td>\n",
       "      <td>$43,000</td>\n",
       "      <td>$42,500</td>\n",
       "      <td>$49,500</td>\n",
       "      <td>$49,500</td>\n",
       "      <td>NaN</td>\n",
       "      <td>$43,000</td>\n",
       "    </tr>\n",
       "    <tr>\n",
       "      <th>1715</th>\n",
       "      <td>Van Driver</td>\n",
       "      <td></td>\n",
       "      <td>$50,500</td>\n",
       "      <td>$49,500</td>\n",
       "      <td>$50,500</td>\n",
       "      <td>$53,500</td>\n",
       "      <td>$57,500</td>\n",
       "      <td>$57,000</td>\n",
       "      <td>$56,000</td>\n",
       "    </tr>\n",
       "    <tr>\n",
       "      <th>1716</th>\n",
       "      <td>Warehouse Worker</td>\n",
       "      <td>Entire Warehouse, General Office Associate, Ge...</td>\n",
       "      <td>$48,000</td>\n",
       "      <td>$47,000</td>\n",
       "      <td>$50,000</td>\n",
       "      <td>$58,000</td>\n",
       "      <td>$63,500</td>\n",
       "      <td>$69,500</td>\n",
       "      <td>$51,500</td>\n",
       "    </tr>\n",
       "    <tr>\n",
       "      <th>1717</th>\n",
       "      <td>Yard Driver</td>\n",
       "      <td>Unloading, Lifting, Packing, Palletizing, Stor...</td>\n",
       "      <td>$49,000</td>\n",
       "      <td>$52,500</td>\n",
       "      <td>$55,000</td>\n",
       "      <td>$64,500</td>\n",
       "      <td>$62,500</td>\n",
       "      <td>$92,500</td>\n",
       "      <td>$54,500</td>\n",
       "    </tr>\n",
       "  </tbody>\n",
       "</table>\n",
       "<p>1718 rows × 9 columns</p>\n",
       "</div>"
      ],
      "text/plain": [
       "                 Job Title                                             Skills  \\\n",
       "0          Account Manager  Business Development, Negotiation, Customer Re...   \n",
       "1               Accountant  Financial Transactions, Financial Statements, ...   \n",
       "2               Accounting  Financial Transactions, Financial Statements, ...   \n",
       "3     Accounting Assistant  Financial Transactions, Accounting, Financial ...   \n",
       "4         Accounting Clerk  Financial Transactions, Financial Statements, ...   \n",
       "...                    ...                                                ...   \n",
       "1713         Truck Driving                                                      \n",
       "1714        Truck Unloader                                                      \n",
       "1715            Van Driver                                                      \n",
       "1716      Warehouse Worker  Entire Warehouse, General Office Associate, Ge...   \n",
       "1717           Yard Driver  Unloading, Lifting, Packing, Palletizing, Stor...   \n",
       "\n",
       "     VOCATIONAL HIGH SCHOOL ASSOCIATE BACHELOR   MASTER DOCTORATE  \\\n",
       "0       $56,500     $55,000   $59,500  $75,500  $87,500   $94,000   \n",
       "1       $53,000     $54,500   $57,500  $72,500  $80,000   $79,000   \n",
       "2       $54,000     $52,500   $57,000  $69,500  $79,500   $86,500   \n",
       "3       $47,000     $47,500   $49,500  $60,500  $68,500   $77,000   \n",
       "4       $42,500     $44,500   $44,500  $50,000  $53,500   $60,000   \n",
       "...         ...         ...       ...      ...      ...       ...   \n",
       "1713    $50,000     $52,000   $56,000  $67,000  $75,500   $81,000   \n",
       "1714    $41,500     $43,000   $42,500  $49,500  $49,500       NaN   \n",
       "1715    $50,500     $49,500   $50,500  $53,500  $57,500   $57,000   \n",
       "1716    $48,000     $47,000   $50,000  $58,000  $63,500   $69,500   \n",
       "1717    $49,000     $52,500   $55,000  $64,500  $62,500   $92,500   \n",
       "\n",
       "     NOT SPECIFIED  \n",
       "0          $75,500  \n",
       "1          $76,000  \n",
       "2          $72,000  \n",
       "3          $62,500  \n",
       "4          $48,500  \n",
       "...            ...  \n",
       "1713       $61,500  \n",
       "1714       $43,000  \n",
       "1715       $56,000  \n",
       "1716       $51,500  \n",
       "1717       $54,500  \n",
       "\n",
       "[1718 rows x 9 columns]"
      ]
     },
     "execution_count": 7,
     "metadata": {},
     "output_type": "execute_result"
    }
   ],
   "source": [
    "df"
   ]
  },
  {
   "cell_type": "code",
   "execution_count": 8,
   "id": "24a9d848",
   "metadata": {},
   "outputs": [],
   "source": [
    "df = df.melt(id_vars=['Job Title', 'Skills'], var_name='Education', value_name='Salary')\n",
    "df.drop_duplicates(inplace=True)\n",
    "df = df.sort_values(by=['Job Title', 'Education'])"
   ]
  },
  {
   "cell_type": "code",
   "execution_count": 9,
   "id": "1aaa6507",
   "metadata": {},
   "outputs": [
    {
     "data": {
      "text/html": [
       "<div>\n",
       "<style scoped>\n",
       "    .dataframe tbody tr th:only-of-type {\n",
       "        vertical-align: middle;\n",
       "    }\n",
       "\n",
       "    .dataframe tbody tr th {\n",
       "        vertical-align: top;\n",
       "    }\n",
       "\n",
       "    .dataframe thead th {\n",
       "        text-align: right;\n",
       "    }\n",
       "</style>\n",
       "<table border=\"1\" class=\"dataframe\">\n",
       "  <thead>\n",
       "    <tr style=\"text-align: right;\">\n",
       "      <th></th>\n",
       "      <th>Job Title</th>\n",
       "      <th>Skills</th>\n",
       "      <th>Education</th>\n",
       "      <th>Salary</th>\n",
       "    </tr>\n",
       "  </thead>\n",
       "  <tbody>\n",
       "    <tr>\n",
       "      <th>2727</th>\n",
       "      <td>Clinical Specialist</td>\n",
       "      <td>Clinics, Acute Care, Diseases And Disorders, R...</td>\n",
       "      <td>HIGH SCHOOL</td>\n",
       "      <td>$51,500</td>\n",
       "    </tr>\n",
       "    <tr>\n",
       "      <th>4015</th>\n",
       "      <td>Clinical Educator</td>\n",
       "      <td>Registered Nurse, Clinics, Licensed Practical ...</td>\n",
       "      <td>ASSOCIATE</td>\n",
       "      <td>$71,000</td>\n",
       "    </tr>\n",
       "    <tr>\n",
       "      <th>9421</th>\n",
       "      <td>Biotechnology</td>\n",
       "      <td></td>\n",
       "      <td>DOCTORATE</td>\n",
       "      <td>$97,500</td>\n",
       "    </tr>\n",
       "    <tr>\n",
       "      <th>804</th>\n",
       "      <td>Production Worker</td>\n",
       "      <td>Safety Knowledge, Assembling, Packing, Manufac...</td>\n",
       "      <td>VOCATIONAL</td>\n",
       "      <td>$56,500</td>\n",
       "    </tr>\n",
       "    <tr>\n",
       "      <th>2699</th>\n",
       "      <td>Phlebotomy Technician</td>\n",
       "      <td>Training, Quality Control, Operations, Schedul...</td>\n",
       "      <td>HIGH SCHOOL</td>\n",
       "      <td>$41,000</td>\n",
       "    </tr>\n",
       "  </tbody>\n",
       "</table>\n",
       "</div>"
      ],
      "text/plain": [
       "                  Job Title  \\\n",
       "2727    Clinical Specialist   \n",
       "4015      Clinical Educator   \n",
       "9421          Biotechnology   \n",
       "804       Production Worker   \n",
       "2699  Phlebotomy Technician   \n",
       "\n",
       "                                                 Skills    Education   Salary  \n",
       "2727  Clinics, Acute Care, Diseases And Disorders, R...  HIGH SCHOOL  $51,500  \n",
       "4015  Registered Nurse, Clinics, Licensed Practical ...    ASSOCIATE  $71,000  \n",
       "9421                                                       DOCTORATE  $97,500  \n",
       "804   Safety Knowledge, Assembling, Packing, Manufac...   VOCATIONAL  $56,500  \n",
       "2699  Training, Quality Control, Operations, Schedul...  HIGH SCHOOL  $41,000  "
      ]
     },
     "execution_count": 9,
     "metadata": {},
     "output_type": "execute_result"
    }
   ],
   "source": [
    "df.sample(5)"
   ]
  },
  {
   "cell_type": "code",
   "execution_count": 10,
   "id": "6e277cbf",
   "metadata": {},
   "outputs": [],
   "source": [
    "df['Salary'] = df['Salary'].fillna('0')\n",
    "df['Salary'] = df['Salary'].str.extract('(\\d+.\\d*)') # Get numbers from salary data eg. $123,456 --> 123456\n",
    "df['Salary'] = df['Salary'].str.replace(\",\", \"\")\n",
    "df['Salary'] = df['Salary'].astype('float')\n",
    "\n",
    "df.dropna(subset=['Salary'], inplace=True)"
   ]
  },
  {
   "cell_type": "code",
   "execution_count": 11,
   "id": "e19f9bcf",
   "metadata": {},
   "outputs": [
    {
     "data": {
      "text/html": [
       "<div>\n",
       "<style scoped>\n",
       "    .dataframe tbody tr th:only-of-type {\n",
       "        vertical-align: middle;\n",
       "    }\n",
       "\n",
       "    .dataframe tbody tr th {\n",
       "        vertical-align: top;\n",
       "    }\n",
       "\n",
       "    .dataframe thead th {\n",
       "        text-align: right;\n",
       "    }\n",
       "</style>\n",
       "<table border=\"1\" class=\"dataframe\">\n",
       "  <thead>\n",
       "    <tr style=\"text-align: right;\">\n",
       "      <th></th>\n",
       "      <th>Job Title</th>\n",
       "      <th>Skills</th>\n",
       "      <th>Education</th>\n",
       "      <th>Salary</th>\n",
       "    </tr>\n",
       "  </thead>\n",
       "  <tbody>\n",
       "    <tr>\n",
       "      <th>4541</th>\n",
       "      <td>.Net Developer</td>\n",
       "      <td>Technical Support, Configure System, Software ...</td>\n",
       "      <td>ASSOCIATE</td>\n",
       "      <td>101000.0</td>\n",
       "    </tr>\n",
       "    <tr>\n",
       "      <th>6259</th>\n",
       "      <td>.Net Developer</td>\n",
       "      <td>Technical Support, Configure System, Software ...</td>\n",
       "      <td>BACHELOR</td>\n",
       "      <td>109000.0</td>\n",
       "    </tr>\n",
       "    <tr>\n",
       "      <th>9695</th>\n",
       "      <td>.Net Developer</td>\n",
       "      <td>Technical Support, Configure System, Software ...</td>\n",
       "      <td>DOCTORATE</td>\n",
       "      <td>117500.0</td>\n",
       "    </tr>\n",
       "    <tr>\n",
       "      <th>2823</th>\n",
       "      <td>.Net Developer</td>\n",
       "      <td>Technical Support, Configure System, Software ...</td>\n",
       "      <td>HIGH SCHOOL</td>\n",
       "      <td>104500.0</td>\n",
       "    </tr>\n",
       "    <tr>\n",
       "      <th>7977</th>\n",
       "      <td>.Net Developer</td>\n",
       "      <td>Technical Support, Configure System, Software ...</td>\n",
       "      <td>MASTER</td>\n",
       "      <td>112500.0</td>\n",
       "    </tr>\n",
       "  </tbody>\n",
       "</table>\n",
       "</div>"
      ],
      "text/plain": [
       "           Job Title                                             Skills  \\\n",
       "4541  .Net Developer  Technical Support, Configure System, Software ...   \n",
       "6259  .Net Developer  Technical Support, Configure System, Software ...   \n",
       "9695  .Net Developer  Technical Support, Configure System, Software ...   \n",
       "2823  .Net Developer  Technical Support, Configure System, Software ...   \n",
       "7977  .Net Developer  Technical Support, Configure System, Software ...   \n",
       "\n",
       "        Education    Salary  \n",
       "4541    ASSOCIATE  101000.0  \n",
       "6259     BACHELOR  109000.0  \n",
       "9695    DOCTORATE  117500.0  \n",
       "2823  HIGH SCHOOL  104500.0  \n",
       "7977       MASTER  112500.0  "
      ]
     },
     "execution_count": 11,
     "metadata": {},
     "output_type": "execute_result"
    }
   ],
   "source": [
    "df.head()"
   ]
  },
  {
   "cell_type": "code",
   "execution_count": 12,
   "id": "acbc9b92",
   "metadata": {},
   "outputs": [
    {
     "data": {
      "text/plain": [
       "(9492, 4)"
      ]
     },
     "execution_count": 12,
     "metadata": {},
     "output_type": "execute_result"
    }
   ],
   "source": [
    "df.shape"
   ]
  },
  {
   "cell_type": "code",
   "execution_count": 13,
   "id": "73c2e291",
   "metadata": {},
   "outputs": [
    {
     "data": {
      "text/html": [
       "<div>\n",
       "<style scoped>\n",
       "    .dataframe tbody tr th:only-of-type {\n",
       "        vertical-align: middle;\n",
       "    }\n",
       "\n",
       "    .dataframe tbody tr th {\n",
       "        vertical-align: top;\n",
       "    }\n",
       "\n",
       "    .dataframe thead th {\n",
       "        text-align: right;\n",
       "    }\n",
       "</style>\n",
       "<table border=\"1\" class=\"dataframe\">\n",
       "  <thead>\n",
       "    <tr style=\"text-align: right;\">\n",
       "      <th></th>\n",
       "      <th>Job Title</th>\n",
       "      <th>Skills</th>\n",
       "      <th>Salary</th>\n",
       "      <th>Education_ASSOCIATE</th>\n",
       "      <th>Education_BACHELOR</th>\n",
       "      <th>Education_DOCTORATE</th>\n",
       "      <th>Education_HIGH SCHOOL</th>\n",
       "      <th>Education_MASTER</th>\n",
       "      <th>Education_NOT SPECIFIED</th>\n",
       "      <th>Education_VOCATIONAL</th>\n",
       "    </tr>\n",
       "  </thead>\n",
       "  <tbody>\n",
       "    <tr>\n",
       "      <th>4541</th>\n",
       "      <td>.Net Developer</td>\n",
       "      <td>Technical Support, Configure System, Software ...</td>\n",
       "      <td>101000.0</td>\n",
       "      <td>1</td>\n",
       "      <td>0</td>\n",
       "      <td>0</td>\n",
       "      <td>0</td>\n",
       "      <td>0</td>\n",
       "      <td>0</td>\n",
       "      <td>0</td>\n",
       "    </tr>\n",
       "    <tr>\n",
       "      <th>6259</th>\n",
       "      <td>.Net Developer</td>\n",
       "      <td>Technical Support, Configure System, Software ...</td>\n",
       "      <td>109000.0</td>\n",
       "      <td>0</td>\n",
       "      <td>1</td>\n",
       "      <td>0</td>\n",
       "      <td>0</td>\n",
       "      <td>0</td>\n",
       "      <td>0</td>\n",
       "      <td>0</td>\n",
       "    </tr>\n",
       "    <tr>\n",
       "      <th>9695</th>\n",
       "      <td>.Net Developer</td>\n",
       "      <td>Technical Support, Configure System, Software ...</td>\n",
       "      <td>117500.0</td>\n",
       "      <td>0</td>\n",
       "      <td>0</td>\n",
       "      <td>1</td>\n",
       "      <td>0</td>\n",
       "      <td>0</td>\n",
       "      <td>0</td>\n",
       "      <td>0</td>\n",
       "    </tr>\n",
       "    <tr>\n",
       "      <th>2823</th>\n",
       "      <td>.Net Developer</td>\n",
       "      <td>Technical Support, Configure System, Software ...</td>\n",
       "      <td>104500.0</td>\n",
       "      <td>0</td>\n",
       "      <td>0</td>\n",
       "      <td>0</td>\n",
       "      <td>1</td>\n",
       "      <td>0</td>\n",
       "      <td>0</td>\n",
       "      <td>0</td>\n",
       "    </tr>\n",
       "    <tr>\n",
       "      <th>7977</th>\n",
       "      <td>.Net Developer</td>\n",
       "      <td>Technical Support, Configure System, Software ...</td>\n",
       "      <td>112500.0</td>\n",
       "      <td>0</td>\n",
       "      <td>0</td>\n",
       "      <td>0</td>\n",
       "      <td>0</td>\n",
       "      <td>1</td>\n",
       "      <td>0</td>\n",
       "      <td>0</td>\n",
       "    </tr>\n",
       "  </tbody>\n",
       "</table>\n",
       "</div>"
      ],
      "text/plain": [
       "           Job Title                                             Skills  \\\n",
       "4541  .Net Developer  Technical Support, Configure System, Software ...   \n",
       "6259  .Net Developer  Technical Support, Configure System, Software ...   \n",
       "9695  .Net Developer  Technical Support, Configure System, Software ...   \n",
       "2823  .Net Developer  Technical Support, Configure System, Software ...   \n",
       "7977  .Net Developer  Technical Support, Configure System, Software ...   \n",
       "\n",
       "        Salary  Education_ASSOCIATE  Education_BACHELOR  Education_DOCTORATE  \\\n",
       "4541  101000.0                    1                   0                    0   \n",
       "6259  109000.0                    0                   1                    0   \n",
       "9695  117500.0                    0                   0                    1   \n",
       "2823  104500.0                    0                   0                    0   \n",
       "7977  112500.0                    0                   0                    0   \n",
       "\n",
       "      Education_HIGH SCHOOL  Education_MASTER  Education_NOT SPECIFIED  \\\n",
       "4541                      0                 0                        0   \n",
       "6259                      0                 0                        0   \n",
       "9695                      0                 0                        0   \n",
       "2823                      1                 0                        0   \n",
       "7977                      0                 1                        0   \n",
       "\n",
       "      Education_VOCATIONAL  \n",
       "4541                     0  \n",
       "6259                     0  \n",
       "9695                     0  \n",
       "2823                     0  \n",
       "7977                     0  "
      ]
     },
     "execution_count": 13,
     "metadata": {},
     "output_type": "execute_result"
    }
   ],
   "source": [
    "edu_dummies = pd.get_dummies(df['Education'], prefix='Education')\n",
    "df = pd.concat([df, edu_dummies], axis=1)\n",
    "del df['Education']\n",
    "df.head()"
   ]
  },
  {
   "cell_type": "code",
   "execution_count": null,
   "id": "6eaf93e5",
   "metadata": {},
   "outputs": [],
   "source": []
  },
  {
   "cell_type": "code",
   "execution_count": null,
   "id": "4a7e3045",
   "metadata": {},
   "outputs": [],
   "source": []
  },
  {
   "cell_type": "code",
   "execution_count": 14,
   "id": "4ad79aee",
   "metadata": {},
   "outputs": [],
   "source": [
    "from sklearn.model_selection import train_test_split\n",
    "from sklearn.preprocessing import StandardScaler, OneHotEncoder\n",
    "from sklearn.impute import SimpleImputer\n",
    "\n",
    "from sklearn.feature_extraction.text import CountVectorizer\n",
    "from sklearn.feature_extraction.text import TfidfTransformer\n",
    "from sklearn.feature_extraction.text import TfidfVectorizer\n",
    "\n",
    "from sklearn.pipeline import Pipeline\n",
    "from sklearn.compose import ColumnTransformer"
   ]
  },
  {
   "cell_type": "code",
   "execution_count": 15,
   "id": "e26399a0",
   "metadata": {},
   "outputs": [],
   "source": [
    "from sklearn.linear_model import LinearRegression\n",
    "from sklearn.ensemble import RandomForestRegressor, ExtraTreesRegressor, GradientBoostingRegressor\n",
    "from sklearn.svm import SVR\n",
    "from sklearn.linear_model import SGDRegressor\n",
    "from sklearn.linear_model import ElasticNet\n",
    "from sklearn.neighbors import KNeighborsRegressor"
   ]
  },
  {
   "cell_type": "code",
   "execution_count": 16,
   "id": "a12e1a98",
   "metadata": {},
   "outputs": [],
   "source": [
    "from xgboost import XGBRegressor"
   ]
  },
  {
   "cell_type": "code",
   "execution_count": 17,
   "id": "c8f511a3",
   "metadata": {},
   "outputs": [],
   "source": [
    "from sklearn.metrics import r2_score\n",
    "from sklearn.metrics import mean_squared_error\n",
    "\n",
    "import math"
   ]
  },
  {
   "cell_type": "code",
   "execution_count": 18,
   "id": "1724fe8d",
   "metadata": {},
   "outputs": [
    {
     "data": {
      "text/plain": [
       "Index(['Job Title', 'Skills', 'Salary', 'Education_ASSOCIATE',\n",
       "       'Education_BACHELOR', 'Education_DOCTORATE', 'Education_HIGH SCHOOL',\n",
       "       'Education_MASTER', 'Education_NOT SPECIFIED', 'Education_VOCATIONAL'],\n",
       "      dtype='object')"
      ]
     },
     "execution_count": 18,
     "metadata": {},
     "output_type": "execute_result"
    }
   ],
   "source": [
    "df.columns"
   ]
  },
  {
   "cell_type": "code",
   "execution_count": 19,
   "id": "f0869d9e",
   "metadata": {},
   "outputs": [],
   "source": [
    "input_cols = ['Job Title', 'Skills', 'Education_ASSOCIATE', 'Education_BACHELOR',\n",
    "       'Education_DOCTORATE', 'Education_HIGH SCHOOL', 'Education_MASTER',\n",
    "       'Education_NOT SPECIFIED', 'Education_VOCATIONAL']\n",
    "\n",
    "target_col = ['Salary']"
   ]
  },
  {
   "cell_type": "code",
   "execution_count": 20,
   "id": "15087cbe",
   "metadata": {},
   "outputs": [],
   "source": [
    "X_train, X_test, y_train, y_test = train_test_split(df[input_cols], df[target_col], test_size=0.1, random_state=4)"
   ]
  },
  {
   "cell_type": "code",
   "execution_count": 21,
   "id": "810d5efc",
   "metadata": {},
   "outputs": [
    {
     "data": {
      "text/html": [
       "<div>\n",
       "<style scoped>\n",
       "    .dataframe tbody tr th:only-of-type {\n",
       "        vertical-align: middle;\n",
       "    }\n",
       "\n",
       "    .dataframe tbody tr th {\n",
       "        vertical-align: top;\n",
       "    }\n",
       "\n",
       "    .dataframe thead th {\n",
       "        text-align: right;\n",
       "    }\n",
       "</style>\n",
       "<table border=\"1\" class=\"dataframe\">\n",
       "  <thead>\n",
       "    <tr style=\"text-align: right;\">\n",
       "      <th></th>\n",
       "      <th>Job Title</th>\n",
       "      <th>Skills</th>\n",
       "      <th>Education_ASSOCIATE</th>\n",
       "      <th>Education_BACHELOR</th>\n",
       "      <th>Education_DOCTORATE</th>\n",
       "      <th>Education_HIGH SCHOOL</th>\n",
       "      <th>Education_MASTER</th>\n",
       "      <th>Education_NOT SPECIFIED</th>\n",
       "      <th>Education_VOCATIONAL</th>\n",
       "    </tr>\n",
       "  </thead>\n",
       "  <tbody>\n",
       "    <tr>\n",
       "      <th>5334</th>\n",
       "      <td>Mason</td>\n",
       "      <td>Construction, Inspector, Renovation, Construct...</td>\n",
       "      <td>0</td>\n",
       "      <td>1</td>\n",
       "      <td>0</td>\n",
       "      <td>0</td>\n",
       "      <td>0</td>\n",
       "      <td>0</td>\n",
       "      <td>0</td>\n",
       "    </tr>\n",
       "    <tr>\n",
       "      <th>9062</th>\n",
       "      <td>Legal Consultant</td>\n",
       "      <td>Joint Ventures, Corporate Laws, Divestitures, ...</td>\n",
       "      <td>0</td>\n",
       "      <td>0</td>\n",
       "      <td>1</td>\n",
       "      <td>0</td>\n",
       "      <td>0</td>\n",
       "      <td>0</td>\n",
       "      <td>0</td>\n",
       "    </tr>\n",
       "    <tr>\n",
       "      <th>9204</th>\n",
       "      <td>Science Teacher</td>\n",
       "      <td>Differentiated Instruction, Secondary Educatio...</td>\n",
       "      <td>0</td>\n",
       "      <td>0</td>\n",
       "      <td>1</td>\n",
       "      <td>0</td>\n",
       "      <td>0</td>\n",
       "      <td>0</td>\n",
       "      <td>0</td>\n",
       "    </tr>\n",
       "    <tr>\n",
       "      <th>5496</th>\n",
       "      <td>Medical Secretary</td>\n",
       "      <td>Administration, Maintain Indexed Record, Arran...</td>\n",
       "      <td>0</td>\n",
       "      <td>1</td>\n",
       "      <td>0</td>\n",
       "      <td>0</td>\n",
       "      <td>0</td>\n",
       "      <td>0</td>\n",
       "      <td>0</td>\n",
       "    </tr>\n",
       "    <tr>\n",
       "      <th>5638</th>\n",
       "      <td>Clerical</td>\n",
       "      <td>Accounting, Financial Statements, Taxation, Au...</td>\n",
       "      <td>0</td>\n",
       "      <td>1</td>\n",
       "      <td>0</td>\n",
       "      <td>0</td>\n",
       "      <td>0</td>\n",
       "      <td>0</td>\n",
       "      <td>0</td>\n",
       "    </tr>\n",
       "    <tr>\n",
       "      <th>...</th>\n",
       "      <td>...</td>\n",
       "      <td>...</td>\n",
       "      <td>...</td>\n",
       "      <td>...</td>\n",
       "      <td>...</td>\n",
       "      <td>...</td>\n",
       "      <td>...</td>\n",
       "      <td>...</td>\n",
       "      <td>...</td>\n",
       "    </tr>\n",
       "    <tr>\n",
       "      <th>142</th>\n",
       "      <td>Artist</td>\n",
       "      <td>Zbrush, Figure Drawings, Concept Arts, 3d Art,...</td>\n",
       "      <td>0</td>\n",
       "      <td>0</td>\n",
       "      <td>0</td>\n",
       "      <td>0</td>\n",
       "      <td>0</td>\n",
       "      <td>0</td>\n",
       "      <td>1</td>\n",
       "    </tr>\n",
       "    <tr>\n",
       "      <th>5024</th>\n",
       "      <td>Outside Sales Representative</td>\n",
       "      <td></td>\n",
       "      <td>1</td>\n",
       "      <td>0</td>\n",
       "      <td>0</td>\n",
       "      <td>0</td>\n",
       "      <td>0</td>\n",
       "      <td>0</td>\n",
       "      <td>0</td>\n",
       "    </tr>\n",
       "    <tr>\n",
       "      <th>3471</th>\n",
       "      <td>Banking</td>\n",
       "      <td>Retail Banking, Unsecured Debt, Loan Originati...</td>\n",
       "      <td>1</td>\n",
       "      <td>0</td>\n",
       "      <td>0</td>\n",
       "      <td>0</td>\n",
       "      <td>0</td>\n",
       "      <td>0</td>\n",
       "      <td>0</td>\n",
       "    </tr>\n",
       "    <tr>\n",
       "      <th>10146</th>\n",
       "      <td>Store Manager</td>\n",
       "      <td>Sales, Selling Techniques, Retail Management, ...</td>\n",
       "      <td>0</td>\n",
       "      <td>0</td>\n",
       "      <td>1</td>\n",
       "      <td>0</td>\n",
       "      <td>0</td>\n",
       "      <td>0</td>\n",
       "      <td>0</td>\n",
       "    </tr>\n",
       "    <tr>\n",
       "      <th>6668</th>\n",
       "      <td>Cafe</td>\n",
       "      <td>Food Services, Food Safety, Hospitality, Food ...</td>\n",
       "      <td>0</td>\n",
       "      <td>1</td>\n",
       "      <td>0</td>\n",
       "      <td>0</td>\n",
       "      <td>0</td>\n",
       "      <td>0</td>\n",
       "      <td>0</td>\n",
       "    </tr>\n",
       "  </tbody>\n",
       "</table>\n",
       "<p>8542 rows × 9 columns</p>\n",
       "</div>"
      ],
      "text/plain": [
       "                          Job Title  \\\n",
       "5334                          Mason   \n",
       "9062               Legal Consultant   \n",
       "9204                Science Teacher   \n",
       "5496              Medical Secretary   \n",
       "5638                       Clerical   \n",
       "...                             ...   \n",
       "142                          Artist   \n",
       "5024   Outside Sales Representative   \n",
       "3471                        Banking   \n",
       "10146                 Store Manager   \n",
       "6668                           Cafe   \n",
       "\n",
       "                                                  Skills  Education_ASSOCIATE  \\\n",
       "5334   Construction, Inspector, Renovation, Construct...                    0   \n",
       "9062   Joint Ventures, Corporate Laws, Divestitures, ...                    0   \n",
       "9204   Differentiated Instruction, Secondary Educatio...                    0   \n",
       "5496   Administration, Maintain Indexed Record, Arran...                    0   \n",
       "5638   Accounting, Financial Statements, Taxation, Au...                    0   \n",
       "...                                                  ...                  ...   \n",
       "142    Zbrush, Figure Drawings, Concept Arts, 3d Art,...                    0   \n",
       "5024                                                                        1   \n",
       "3471   Retail Banking, Unsecured Debt, Loan Originati...                    1   \n",
       "10146  Sales, Selling Techniques, Retail Management, ...                    0   \n",
       "6668   Food Services, Food Safety, Hospitality, Food ...                    0   \n",
       "\n",
       "       Education_BACHELOR  Education_DOCTORATE  Education_HIGH SCHOOL  \\\n",
       "5334                    1                    0                      0   \n",
       "9062                    0                    1                      0   \n",
       "9204                    0                    1                      0   \n",
       "5496                    1                    0                      0   \n",
       "5638                    1                    0                      0   \n",
       "...                   ...                  ...                    ...   \n",
       "142                     0                    0                      0   \n",
       "5024                    0                    0                      0   \n",
       "3471                    0                    0                      0   \n",
       "10146                   0                    1                      0   \n",
       "6668                    1                    0                      0   \n",
       "\n",
       "       Education_MASTER  Education_NOT SPECIFIED  Education_VOCATIONAL  \n",
       "5334                  0                        0                     0  \n",
       "9062                  0                        0                     0  \n",
       "9204                  0                        0                     0  \n",
       "5496                  0                        0                     0  \n",
       "5638                  0                        0                     0  \n",
       "...                 ...                      ...                   ...  \n",
       "142                   0                        0                     1  \n",
       "5024                  0                        0                     0  \n",
       "3471                  0                        0                     0  \n",
       "10146                 0                        0                     0  \n",
       "6668                  0                        0                     0  \n",
       "\n",
       "[8542 rows x 9 columns]"
      ]
     },
     "execution_count": 21,
     "metadata": {},
     "output_type": "execute_result"
    }
   ],
   "source": [
    "X_train"
   ]
  },
  {
   "cell_type": "raw",
   "id": "95fa5b71",
   "metadata": {},
   "source": [
    "tdidf = TfidfVectorizer(sublinear_tf = True, min_df=0.01, max_df=0.5, ngram_range=(1,3), stop_words='english')\n",
    "fitted_vectorizer = tdidf.fit(X_train)\n",
    "tfidf_vectorizer_vectors = fitted_vectorizer.transform(X_train['Job Title'])"
   ]
  },
  {
   "cell_type": "raw",
   "id": "340394f8",
   "metadata": {},
   "source": [
    "tfidf_vectorizer_vectors"
   ]
  },
  {
   "cell_type": "raw",
   "id": "e2984d65",
   "metadata": {},
   "source": [
    "model = SGDClassifier(alpha=0.0001, max_iter=500, n_jobs=3).fit(tfidf_vectorizer_vectors, y_train)"
   ]
  },
  {
   "cell_type": "code",
   "execution_count": null,
   "id": "b884465d",
   "metadata": {},
   "outputs": [],
   "source": []
  },
  {
   "cell_type": "code",
   "execution_count": null,
   "id": "85249bee",
   "metadata": {},
   "outputs": [],
   "source": []
  },
  {
   "cell_type": "raw",
   "id": "46e675ca",
   "metadata": {},
   "source": [
    "model = RandomForestRegressor(n_estimators=150, n_jobs=-1, random_state=105)"
   ]
  },
  {
   "cell_type": "code",
   "execution_count": 22,
   "id": "a6cb25e3",
   "metadata": {},
   "outputs": [],
   "source": [
    "vectorizer1 = TfidfVectorizer()\n",
    "vectorizer2 = TfidfVectorizer()\n",
    "\n",
    "column_transformer = ColumnTransformer(\n",
    "    [('tfidf1', vectorizer1, 'Job Title'),\n",
    "    ('tfidf2', vectorizer2, 'Skills')],\n",
    "    remainder='passthrough')"
   ]
  },
  {
   "cell_type": "raw",
   "id": "4ce228c3",
   "metadata": {},
   "source": [
    "pipe = Pipeline([\n",
    "                  ('tfidf', column_transformer),\n",
    "                  ('run_model', model)\n",
    "                ], verbose=True)"
   ]
  },
  {
   "cell_type": "raw",
   "id": "5c024c27",
   "metadata": {},
   "source": [
    "pipe.fit(X_train, y_train)"
   ]
  },
  {
   "cell_type": "raw",
   "id": "7eced8e9",
   "metadata": {},
   "source": [
    "pipe.score(X_test, y_test)*100"
   ]
  },
  {
   "cell_type": "raw",
   "id": "f28dfea1",
   "metadata": {},
   "source": [
    "pipe.named_steps"
   ]
  },
  {
   "cell_type": "raw",
   "id": "7249a1d4",
   "metadata": {},
   "source": [
    "pipe.named_steps['run_model']"
   ]
  },
  {
   "cell_type": "raw",
   "id": "bb12ed9a",
   "metadata": {},
   "source": [
    "pipe.named_steps['tfidf']"
   ]
  },
  {
   "cell_type": "raw",
   "id": "f8f1f277",
   "metadata": {},
   "source": [
    "\n",
    "joblib.dump(pipe, 'salary_model.pkl')"
   ]
  },
  {
   "cell_type": "raw",
   "id": "53fb33ee",
   "metadata": {},
   "source": [
    "y_pred = pipe.predict(X_test)"
   ]
  },
  {
   "cell_type": "raw",
   "id": "d2fce7d7",
   "metadata": {},
   "source": [
    "print('R2 Score: ', r2_score(y_test, y_pred))\n",
    "print('Root Mean Squared Error:', math.sqrt(mean_squared_error(y_test, y_pred)))"
   ]
  },
  {
   "cell_type": "code",
   "execution_count": null,
   "id": "71bd4d45",
   "metadata": {},
   "outputs": [],
   "source": []
  },
  {
   "cell_type": "code",
   "execution_count": 23,
   "id": "42ca36b9",
   "metadata": {},
   "outputs": [],
   "source": [
    "models = {\n",
    "    'Linear Regression Regressor': LinearRegression(),\n",
    "    'Random Forest Regressor': RandomForestRegressor(n_estimators=150),\n",
    "    'Support Vector Regressor': SVR(),\n",
    "    'SGD Regressor': SGDRegressor(max_iter=10000),\n",
    "    'Elastic Net Regressor': ElasticNet(),\n",
    "    'K Neighbors Regressor': KNeighborsRegressor(),\n",
    "    'Extra Trees Regressor': ExtraTreesRegressor(),\n",
    "    'Gradient Boosting Regressor': GradientBoostingRegressor(),\n",
    "    'XGBoost Regressor': XGBRegressor()\n",
    "}\n",
    "\n",
    "r2_scores = {}\n",
    "rmse_scores = {}\n",
    "result_df = pd.DataFrame()\n"
   ]
  },
  {
   "cell_type": "code",
   "execution_count": 24,
   "id": "9c614600",
   "metadata": {},
   "outputs": [
    {
     "data": {
      "text/plain": [
       "{'Linear Regression Regressor': LinearRegression(),\n",
       " 'Random Forest Regressor': RandomForestRegressor(n_estimators=150),\n",
       " 'Support Vector Regressor': SVR(),\n",
       " 'SGD Regressor': SGDRegressor(max_iter=10000),\n",
       " 'Elastic Net Regressor': ElasticNet(),\n",
       " 'K Neighbors Regressor': KNeighborsRegressor(),\n",
       " 'Extra Trees Regressor': ExtraTreesRegressor(),\n",
       " 'Gradient Boosting Regressor': GradientBoostingRegressor(),\n",
       " 'XGBoost Regressor': XGBRegressor(base_score=None, booster=None, colsample_bylevel=None,\n",
       "              colsample_bynode=None, colsample_bytree=None,\n",
       "              enable_categorical=False, gamma=None, gpu_id=None,\n",
       "              importance_type=None, interaction_constraints=None,\n",
       "              learning_rate=None, max_delta_step=None, max_depth=None,\n",
       "              min_child_weight=None, missing=nan, monotone_constraints=None,\n",
       "              n_estimators=100, n_jobs=None, num_parallel_tree=None,\n",
       "              predictor=None, random_state=None, reg_alpha=None, reg_lambda=None,\n",
       "              scale_pos_weight=None, subsample=None, tree_method=None,\n",
       "              validate_parameters=None, verbosity=None)}"
      ]
     },
     "execution_count": 24,
     "metadata": {},
     "output_type": "execute_result"
    }
   ],
   "source": [
    "models"
   ]
  },
  {
   "cell_type": "code",
   "execution_count": 26,
   "id": "abec140d",
   "metadata": {},
   "outputs": [],
   "source": [
    "models_fitted = {}"
   ]
  },
  {
   "cell_type": "code",
   "execution_count": 27,
   "id": "ee4941a9",
   "metadata": {},
   "outputs": [
    {
     "data": {
      "application/vnd.jupyter.widget-view+json": {
       "model_id": "",
       "version_major": 2,
       "version_minor": 0
      },
      "text/plain": [
       "  0%|          | 0/9 [00:00<?, ?it/s]"
      ]
     },
     "metadata": {},
     "output_type": "display_data"
    },
    {
     "name": "stdout",
     "output_type": "stream",
     "text": [
      "Starting Linear Regression Regressor\n",
      "[Pipeline] ............. (step 1 of 2) Processing tfidf, total=   0.2s\n",
      "[Pipeline] ......... (step 2 of 2) Processing run_model, total=   1.5s\n",
      "Linear Regression Regressor Complete\n",
      "Starting Random Forest Regressor\n",
      "[Pipeline] ............. (step 1 of 2) Processing tfidf, total=   0.3s\n",
      "[Pipeline] ......... (step 2 of 2) Processing run_model, total= 4.1min\n",
      "Random Forest Regressor Complete\n",
      "Starting Support Vector Regressor\n",
      "[Pipeline] ............. (step 1 of 2) Processing tfidf, total=   0.2s\n",
      "[Pipeline] ......... (step 2 of 2) Processing run_model, total=  13.4s\n",
      "Support Vector Regressor Complete\n",
      "Starting SGD Regressor\n",
      "[Pipeline] ............. (step 1 of 2) Processing tfidf, total=   0.2s\n",
      "[Pipeline] ......... (step 2 of 2) Processing run_model, total=   6.4s\n",
      "SGD Regressor Complete\n",
      "Starting Elastic Net Regressor\n",
      "[Pipeline] ............. (step 1 of 2) Processing tfidf, total=   0.2s\n",
      "[Pipeline] ......... (step 2 of 2) Processing run_model, total=   0.4s\n",
      "Elastic Net Regressor Complete\n",
      "Starting K Neighbors Regressor\n",
      "[Pipeline] ............. (step 1 of 2) Processing tfidf, total=   0.2s\n",
      "[Pipeline] ......... (step 2 of 2) Processing run_model, total=   0.0s\n",
      "K Neighbors Regressor Complete\n",
      "Starting Extra Trees Regressor\n",
      "[Pipeline] ............. (step 1 of 2) Processing tfidf, total=   0.2s\n",
      "[Pipeline] ......... (step 2 of 2) Processing run_model, total= 3.6min\n",
      "Extra Trees Regressor Complete\n",
      "Starting Gradient Boosting Regressor\n",
      "[Pipeline] ............. (step 1 of 2) Processing tfidf, total=   0.2s\n",
      "[Pipeline] ......... (step 2 of 2) Processing run_model, total=   2.6s\n",
      "Gradient Boosting Regressor Complete\n",
      "Starting XGBoost Regressor\n",
      "[Pipeline] ............. (step 1 of 2) Processing tfidf, total=   0.2s\n",
      "[Pipeline] ......... (step 2 of 2) Processing run_model, total=   0.6s\n",
      "XGBoost Regressor Complete\n"
     ]
    }
   ],
   "source": [
    "for name, model in tqdm(models.items(), leave=False):\n",
    "    print('Starting', name)\n",
    "    pipe = Pipeline([\n",
    "                      ('tfidf', column_transformer),\n",
    "                      ('run_model', model)\n",
    "                    ], verbose=True)\n",
    "    pipe.fit(X_train, y_train)\n",
    "    \n",
    "#     scores[name] = pipe.score(X_test, y_test)\n",
    "    \n",
    "    y_pred = pipe.predict(X_test)\n",
    "    r2_scores[name] = r2_score(y_test, y_pred)\n",
    "    rmse_scores[name] = math.sqrt(mean_squared_error(y_test, y_pred))\n",
    "    \n",
    "    new_row = {'Model': name, 'R2 Score': r2_score(y_test, y_pred), 'RMSE': math.sqrt(mean_squared_error(y_test, y_pred))}\n",
    "    \n",
    "    result_df = result_df.append(new_row, ignore_index=True)\n",
    "    \n",
    "    models_fitted[name] = pipe\n",
    "    \n",
    "    print(f'{name} Complete')"
   ]
  },
  {
   "cell_type": "code",
   "execution_count": 28,
   "id": "ff3ecd89",
   "metadata": {
    "scrolled": true
   },
   "outputs": [
    {
     "name": "stdout",
     "output_type": "stream",
     "text": [
      "{'Elastic Net Regressor': 0.14738457286894113,\n",
      " 'Extra Trees Regressor': 0.75446770816801,\n",
      " 'Gradient Boosting Regressor': 0.7059070744289685,\n",
      " 'K Neighbors Regressor': 0.6377276194896231,\n",
      " 'Linear Regression Regressor': 0.8903221296001184,\n",
      " 'Random Forest Regressor': 0.7647754708029897,\n",
      " 'SGD Regressor': 0.88985000177259,\n",
      " 'Support Vector Regressor': -0.014924644683672161,\n",
      " 'XGBoost Regressor': 0.880311555633711}\n"
     ]
    }
   ],
   "source": [
    "pprint(r2_scores)"
   ]
  },
  {
   "cell_type": "code",
   "execution_count": 29,
   "id": "f44efacd",
   "metadata": {},
   "outputs": [
    {
     "data": {
      "text/plain": [
       "[('Support Vector Regressor', -0.014924644683672161),\n",
       " ('Elastic Net Regressor', 0.14738457286894113),\n",
       " ('K Neighbors Regressor', 0.6377276194896231),\n",
       " ('Gradient Boosting Regressor', 0.7059070744289685),\n",
       " ('Extra Trees Regressor', 0.75446770816801),\n",
       " ('Random Forest Regressor', 0.7647754708029897),\n",
       " ('XGBoost Regressor', 0.880311555633711),\n",
       " ('SGD Regressor', 0.88985000177259),\n",
       " ('Linear Regression Regressor', 0.8903221296001184)]"
      ]
     },
     "execution_count": 29,
     "metadata": {},
     "output_type": "execute_result"
    }
   ],
   "source": [
    "sorted(r2_scores.items(), key=lambda x:x[1])"
   ]
  },
  {
   "cell_type": "code",
   "execution_count": 30,
   "id": "b6df6621",
   "metadata": {},
   "outputs": [
    {
     "data": {
      "text/html": [
       "<div>\n",
       "<style scoped>\n",
       "    .dataframe tbody tr th:only-of-type {\n",
       "        vertical-align: middle;\n",
       "    }\n",
       "\n",
       "    .dataframe tbody tr th {\n",
       "        vertical-align: top;\n",
       "    }\n",
       "\n",
       "    .dataframe thead th {\n",
       "        text-align: right;\n",
       "    }\n",
       "</style>\n",
       "<table border=\"1\" class=\"dataframe\">\n",
       "  <thead>\n",
       "    <tr style=\"text-align: right;\">\n",
       "      <th></th>\n",
       "      <th>Model</th>\n",
       "      <th>R2 Score</th>\n",
       "      <th>RMSE</th>\n",
       "    </tr>\n",
       "  </thead>\n",
       "  <tbody>\n",
       "    <tr>\n",
       "      <th>0</th>\n",
       "      <td>Linear Regression Regressor</td>\n",
       "      <td>0.890322</td>\n",
       "      <td>6862.821021</td>\n",
       "    </tr>\n",
       "    <tr>\n",
       "      <th>1</th>\n",
       "      <td>Random Forest Regressor</td>\n",
       "      <td>0.764775</td>\n",
       "      <td>10050.426046</td>\n",
       "    </tr>\n",
       "    <tr>\n",
       "      <th>2</th>\n",
       "      <td>Support Vector Regressor</td>\n",
       "      <td>-0.014925</td>\n",
       "      <td>20876.614291</td>\n",
       "    </tr>\n",
       "    <tr>\n",
       "      <th>3</th>\n",
       "      <td>SGD Regressor</td>\n",
       "      <td>0.889850</td>\n",
       "      <td>6877.576274</td>\n",
       "    </tr>\n",
       "    <tr>\n",
       "      <th>4</th>\n",
       "      <td>Elastic Net Regressor</td>\n",
       "      <td>0.147385</td>\n",
       "      <td>19134.616459</td>\n",
       "    </tr>\n",
       "    <tr>\n",
       "      <th>5</th>\n",
       "      <td>K Neighbors Regressor</td>\n",
       "      <td>0.637728</td>\n",
       "      <td>12472.708734</td>\n",
       "    </tr>\n",
       "    <tr>\n",
       "      <th>6</th>\n",
       "      <td>Extra Trees Regressor</td>\n",
       "      <td>0.754468</td>\n",
       "      <td>10268.274665</td>\n",
       "    </tr>\n",
       "    <tr>\n",
       "      <th>7</th>\n",
       "      <td>Gradient Boosting Regressor</td>\n",
       "      <td>0.705907</td>\n",
       "      <td>11237.907604</td>\n",
       "    </tr>\n",
       "    <tr>\n",
       "      <th>8</th>\n",
       "      <td>XGBoost Regressor</td>\n",
       "      <td>0.880312</td>\n",
       "      <td>7169.176614</td>\n",
       "    </tr>\n",
       "  </tbody>\n",
       "</table>\n",
       "</div>"
      ],
      "text/plain": [
       "                         Model  R2 Score          RMSE\n",
       "0  Linear Regression Regressor  0.890322   6862.821021\n",
       "1      Random Forest Regressor  0.764775  10050.426046\n",
       "2     Support Vector Regressor -0.014925  20876.614291\n",
       "3                SGD Regressor  0.889850   6877.576274\n",
       "4        Elastic Net Regressor  0.147385  19134.616459\n",
       "5        K Neighbors Regressor  0.637728  12472.708734\n",
       "6        Extra Trees Regressor  0.754468  10268.274665\n",
       "7  Gradient Boosting Regressor  0.705907  11237.907604\n",
       "8            XGBoost Regressor  0.880312   7169.176614"
      ]
     },
     "execution_count": 30,
     "metadata": {},
     "output_type": "execute_result"
    }
   ],
   "source": [
    "result_df"
   ]
  },
  {
   "cell_type": "code",
   "execution_count": 31,
   "id": "340a825b",
   "metadata": {},
   "outputs": [
    {
     "data": {
      "text/html": [
       "<div>\n",
       "<style scoped>\n",
       "    .dataframe tbody tr th:only-of-type {\n",
       "        vertical-align: middle;\n",
       "    }\n",
       "\n",
       "    .dataframe tbody tr th {\n",
       "        vertical-align: top;\n",
       "    }\n",
       "\n",
       "    .dataframe thead th {\n",
       "        text-align: right;\n",
       "    }\n",
       "</style>\n",
       "<table border=\"1\" class=\"dataframe\">\n",
       "  <thead>\n",
       "    <tr style=\"text-align: right;\">\n",
       "      <th></th>\n",
       "      <th>Model</th>\n",
       "      <th>R2 Score</th>\n",
       "      <th>RMSE</th>\n",
       "    </tr>\n",
       "  </thead>\n",
       "  <tbody>\n",
       "    <tr>\n",
       "      <th>0</th>\n",
       "      <td>Linear Regression Regressor</td>\n",
       "      <td>0.890322</td>\n",
       "      <td>6862.821021</td>\n",
       "    </tr>\n",
       "    <tr>\n",
       "      <th>3</th>\n",
       "      <td>SGD Regressor</td>\n",
       "      <td>0.889850</td>\n",
       "      <td>6877.576274</td>\n",
       "    </tr>\n",
       "    <tr>\n",
       "      <th>8</th>\n",
       "      <td>XGBoost Regressor</td>\n",
       "      <td>0.880312</td>\n",
       "      <td>7169.176614</td>\n",
       "    </tr>\n",
       "    <tr>\n",
       "      <th>1</th>\n",
       "      <td>Random Forest Regressor</td>\n",
       "      <td>0.764775</td>\n",
       "      <td>10050.426046</td>\n",
       "    </tr>\n",
       "    <tr>\n",
       "      <th>6</th>\n",
       "      <td>Extra Trees Regressor</td>\n",
       "      <td>0.754468</td>\n",
       "      <td>10268.274665</td>\n",
       "    </tr>\n",
       "    <tr>\n",
       "      <th>7</th>\n",
       "      <td>Gradient Boosting Regressor</td>\n",
       "      <td>0.705907</td>\n",
       "      <td>11237.907604</td>\n",
       "    </tr>\n",
       "    <tr>\n",
       "      <th>5</th>\n",
       "      <td>K Neighbors Regressor</td>\n",
       "      <td>0.637728</td>\n",
       "      <td>12472.708734</td>\n",
       "    </tr>\n",
       "    <tr>\n",
       "      <th>4</th>\n",
       "      <td>Elastic Net Regressor</td>\n",
       "      <td>0.147385</td>\n",
       "      <td>19134.616459</td>\n",
       "    </tr>\n",
       "    <tr>\n",
       "      <th>2</th>\n",
       "      <td>Support Vector Regressor</td>\n",
       "      <td>-0.014925</td>\n",
       "      <td>20876.614291</td>\n",
       "    </tr>\n",
       "  </tbody>\n",
       "</table>\n",
       "</div>"
      ],
      "text/plain": [
       "                         Model  R2 Score          RMSE\n",
       "0  Linear Regression Regressor  0.890322   6862.821021\n",
       "3                SGD Regressor  0.889850   6877.576274\n",
       "8            XGBoost Regressor  0.880312   7169.176614\n",
       "1      Random Forest Regressor  0.764775  10050.426046\n",
       "6        Extra Trees Regressor  0.754468  10268.274665\n",
       "7  Gradient Boosting Regressor  0.705907  11237.907604\n",
       "5        K Neighbors Regressor  0.637728  12472.708734\n",
       "4        Elastic Net Regressor  0.147385  19134.616459\n",
       "2     Support Vector Regressor -0.014925  20876.614291"
      ]
     },
     "execution_count": 31,
     "metadata": {},
     "output_type": "execute_result"
    }
   ],
   "source": [
    "result_df.sort_values(by=['RMSE'])"
   ]
  },
  {
   "cell_type": "code",
   "execution_count": 32,
   "id": "0155898c",
   "metadata": {},
   "outputs": [
    {
     "data": {
      "text/plain": [
       "{'Linear Regression Regressor': Pipeline(steps=[('tfidf',\n",
       "                  ColumnTransformer(remainder='passthrough',\n",
       "                                    transformers=[('tfidf1', TfidfVectorizer(),\n",
       "                                                   'Job Title'),\n",
       "                                                  ('tfidf2', TfidfVectorizer(),\n",
       "                                                   'Skills')])),\n",
       "                 ('run_model', LinearRegression())],\n",
       "          verbose=True),\n",
       " 'Random Forest Regressor': Pipeline(steps=[('tfidf',\n",
       "                  ColumnTransformer(remainder='passthrough',\n",
       "                                    transformers=[('tfidf1', TfidfVectorizer(),\n",
       "                                                   'Job Title'),\n",
       "                                                  ('tfidf2', TfidfVectorizer(),\n",
       "                                                   'Skills')])),\n",
       "                 ('run_model', RandomForestRegressor(n_estimators=150))],\n",
       "          verbose=True),\n",
       " 'Support Vector Regressor': Pipeline(steps=[('tfidf',\n",
       "                  ColumnTransformer(remainder='passthrough',\n",
       "                                    transformers=[('tfidf1', TfidfVectorizer(),\n",
       "                                                   'Job Title'),\n",
       "                                                  ('tfidf2', TfidfVectorizer(),\n",
       "                                                   'Skills')])),\n",
       "                 ('run_model', SVR())],\n",
       "          verbose=True),\n",
       " 'SGD Regressor': Pipeline(steps=[('tfidf',\n",
       "                  ColumnTransformer(remainder='passthrough',\n",
       "                                    transformers=[('tfidf1', TfidfVectorizer(),\n",
       "                                                   'Job Title'),\n",
       "                                                  ('tfidf2', TfidfVectorizer(),\n",
       "                                                   'Skills')])),\n",
       "                 ('run_model', SGDRegressor(max_iter=10000))],\n",
       "          verbose=True),\n",
       " 'Elastic Net Regressor': Pipeline(steps=[('tfidf',\n",
       "                  ColumnTransformer(remainder='passthrough',\n",
       "                                    transformers=[('tfidf1', TfidfVectorizer(),\n",
       "                                                   'Job Title'),\n",
       "                                                  ('tfidf2', TfidfVectorizer(),\n",
       "                                                   'Skills')])),\n",
       "                 ('run_model', ElasticNet())],\n",
       "          verbose=True),\n",
       " 'K Neighbors Regressor': Pipeline(steps=[('tfidf',\n",
       "                  ColumnTransformer(remainder='passthrough',\n",
       "                                    transformers=[('tfidf1', TfidfVectorizer(),\n",
       "                                                   'Job Title'),\n",
       "                                                  ('tfidf2', TfidfVectorizer(),\n",
       "                                                   'Skills')])),\n",
       "                 ('run_model', KNeighborsRegressor())],\n",
       "          verbose=True),\n",
       " 'Extra Trees Regressor': Pipeline(steps=[('tfidf',\n",
       "                  ColumnTransformer(remainder='passthrough',\n",
       "                                    transformers=[('tfidf1', TfidfVectorizer(),\n",
       "                                                   'Job Title'),\n",
       "                                                  ('tfidf2', TfidfVectorizer(),\n",
       "                                                   'Skills')])),\n",
       "                 ('run_model', ExtraTreesRegressor())],\n",
       "          verbose=True),\n",
       " 'Gradient Boosting Regressor': Pipeline(steps=[('tfidf',\n",
       "                  ColumnTransformer(remainder='passthrough',\n",
       "                                    transformers=[('tfidf1', TfidfVectorizer(),\n",
       "                                                   'Job Title'),\n",
       "                                                  ('tfidf2', TfidfVectorizer(),\n",
       "                                                   'Skills')])),\n",
       "                 ('run_model', GradientBoostingRegressor())],\n",
       "          verbose=True),\n",
       " 'XGBoost Regressor': Pipeline(steps=[('tfidf',\n",
       "                  ColumnTransformer(remainder='passthrough',\n",
       "                                    transformers=[('tfidf1', TfidfVectorizer(),\n",
       "                                                   'Job Title'),\n",
       "                                                  ('tfidf2', TfidfVectorizer(),\n",
       "                                                   'Skills')])),\n",
       "                 ('run_model',\n",
       "                  XGBRegressor(base_score=0.5, booster='gbtree',\n",
       "                               colsample_bylevel=1, colsample_bynode=1,\n",
       "                               colsample_bytree=1, enable_categorical=False,\n",
       "                               gamma=0, gpu_id=-1, importance_type=None,\n",
       "                               interaction_constraints='',\n",
       "                               learning_rate=0.300000012, max_delta_step=0,\n",
       "                               max_depth=6, min_child_weight=1, missing=nan,\n",
       "                               monotone_constraints='()', n_estimators=100,\n",
       "                               n_jobs=8, num_parallel_tree=1, predictor='auto',\n",
       "                               random_state=0, reg_alpha=0, reg_lambda=1,\n",
       "                               scale_pos_weight=1, subsample=1,\n",
       "                               tree_method='exact', validate_parameters=1,\n",
       "                               verbosity=None))],\n",
       "          verbose=True)}"
      ]
     },
     "execution_count": 32,
     "metadata": {},
     "output_type": "execute_result"
    }
   ],
   "source": [
    "models_fitted"
   ]
  },
  {
   "cell_type": "code",
   "execution_count": null,
   "id": "89eecda6",
   "metadata": {},
   "outputs": [],
   "source": []
  },
  {
   "cell_type": "markdown",
   "id": "55fc92ac",
   "metadata": {},
   "source": [
    "## Voting Regressor"
   ]
  },
  {
   "cell_type": "code",
   "execution_count": 51,
   "id": "951f7f04",
   "metadata": {},
   "outputs": [],
   "source": [
    "from sklearn.ensemble import VotingRegressor"
   ]
  },
  {
   "cell_type": "code",
   "execution_count": 52,
   "id": "567776ec",
   "metadata": {},
   "outputs": [
    {
     "data": {
      "text/plain": [
       "{'Linear Regression Regressor': 0.8903221296001184,\n",
       " 'SGD Regressor': 0.88985000177259,\n",
       " 'XGBoost Regressor': 0.880311555633711}"
      ]
     },
     "execution_count": 52,
     "metadata": {},
     "output_type": "execute_result"
    }
   ],
   "source": [
    "top_3_models = dict(sorted(r2_scores.items(), key=lambda x:x[1], reverse=True)[:3])\n",
    "top_3_models"
   ]
  },
  {
   "cell_type": "code",
   "execution_count": 53,
   "id": "bfd1d21f",
   "metadata": {},
   "outputs": [
    {
     "data": {
      "text/plain": [
       "[('Linear Regression Regressor',\n",
       "  Pipeline(steps=[('tfidf',\n",
       "                   ColumnTransformer(remainder='passthrough',\n",
       "                                     transformers=[('tfidf1', TfidfVectorizer(),\n",
       "                                                    'Job Title'),\n",
       "                                                   ('tfidf2', TfidfVectorizer(),\n",
       "                                                    'Skills')])),\n",
       "                  ('run_model', LinearRegression())],\n",
       "           verbose=True)),\n",
       " ('SGD Regressor',\n",
       "  Pipeline(steps=[('tfidf',\n",
       "                   ColumnTransformer(remainder='passthrough',\n",
       "                                     transformers=[('tfidf1', TfidfVectorizer(),\n",
       "                                                    'Job Title'),\n",
       "                                                   ('tfidf2', TfidfVectorizer(),\n",
       "                                                    'Skills')])),\n",
       "                  ('run_model', SGDRegressor(max_iter=10000))],\n",
       "           verbose=True)),\n",
       " ('XGBoost Regressor',\n",
       "  Pipeline(steps=[('tfidf',\n",
       "                   ColumnTransformer(remainder='passthrough',\n",
       "                                     transformers=[('tfidf1', TfidfVectorizer(),\n",
       "                                                    'Job Title'),\n",
       "                                                   ('tfidf2', TfidfVectorizer(),\n",
       "                                                    'Skills')])),\n",
       "                  ('run_model',\n",
       "                   XGBRegressor(base_score=0.5, booster='gbtree',\n",
       "                                colsample_bylevel=1, colsample_bynode=1,\n",
       "                                colsample_bytree=1, enable_categorical=False,\n",
       "                                gamma=0, gpu_id=-1, importance_type=None,\n",
       "                                interaction_constraints='',\n",
       "                                learning_rate=0.300000012, max_delta_step=0,\n",
       "                                max_depth=6, min_child_weight=1, missing=nan,\n",
       "                                monotone_constraints='()', n_estimators=100,\n",
       "                                n_jobs=8, num_parallel_tree=1, predictor='auto',\n",
       "                                random_state=0, reg_alpha=0, reg_lambda=1,\n",
       "                                scale_pos_weight=1, subsample=1,\n",
       "                                tree_method='exact', validate_parameters=1,\n",
       "                                verbosity=None))],\n",
       "           verbose=True))]"
      ]
     },
     "execution_count": 53,
     "metadata": {},
     "output_type": "execute_result"
    }
   ],
   "source": [
    "vr_input = []\n",
    "\n",
    "for top_model in top_3_models.keys():\n",
    "    vr_input.append((top_model, models_fitted[top_model]))\n",
    "                    \n",
    "vr_input"
   ]
  },
  {
   "cell_type": "code",
   "execution_count": 56,
   "id": "b9ee1fd9",
   "metadata": {},
   "outputs": [
    {
     "data": {
      "text/plain": [
       "VotingRegressor(estimators=[('Linear Regression Regressor',\n",
       "                             Pipeline(steps=[('tfidf',\n",
       "                                              ColumnTransformer(remainder='passthrough',\n",
       "                                                                transformers=[('tfidf1',\n",
       "                                                                               TfidfVectorizer(),\n",
       "                                                                               'Job '\n",
       "                                                                               'Title'),\n",
       "                                                                              ('tfidf2',\n",
       "                                                                               TfidfVectorizer(),\n",
       "                                                                               'Skills')])),\n",
       "                                             ('run_model', LinearRegression())],\n",
       "                                      verbose=True)),\n",
       "                            ('SGD Regressor',\n",
       "                             Pipeline(steps=[('tfidf',\n",
       "                                              ColumnTransformer(remainder='passthroug...\n",
       "                                                           interaction_constraints='',\n",
       "                                                           learning_rate=0.300000012,\n",
       "                                                           max_delta_step=0,\n",
       "                                                           max_depth=6,\n",
       "                                                           min_child_weight=1,\n",
       "                                                           missing=nan,\n",
       "                                                           monotone_constraints='()',\n",
       "                                                           n_estimators=100,\n",
       "                                                           n_jobs=8,\n",
       "                                                           num_parallel_tree=1,\n",
       "                                                           predictor='auto',\n",
       "                                                           random_state=0,\n",
       "                                                           reg_alpha=0,\n",
       "                                                           reg_lambda=1,\n",
       "                                                           scale_pos_weight=1,\n",
       "                                                           subsample=1,\n",
       "                                                           tree_method='exact',\n",
       "                                                           validate_parameters=1,\n",
       "                                                           verbosity=None))],\n",
       "                                      verbose=True))],\n",
       "                verbose=True)"
      ]
     },
     "execution_count": 56,
     "metadata": {},
     "output_type": "execute_result"
    }
   ],
   "source": [
    "vr = VotingRegressor(vr_input, verbose=True)\n",
    "vr"
   ]
  },
  {
   "cell_type": "code",
   "execution_count": 57,
   "id": "caf79b1b",
   "metadata": {},
   "outputs": [
    {
     "name": "stdout",
     "output_type": "stream",
     "text": [
      "[Pipeline] ............. (step 1 of 2) Processing tfidf, total=   0.2s\n",
      "[Pipeline] ......... (step 2 of 2) Processing run_model, total=   1.6s\n",
      "[Voting]  (1 of 3) Processing Linear Regression Regressor, total=   1.8s\n",
      "[Pipeline] ............. (step 1 of 2) Processing tfidf, total=   0.2s\n",
      "[Pipeline] ......... (step 2 of 2) Processing run_model, total=   6.7s\n",
      "[Voting] ............ (2 of 3) Processing SGD Regressor, total=   6.9s\n",
      "[Pipeline] ............. (step 1 of 2) Processing tfidf, total=   0.2s\n",
      "[Pipeline] ......... (step 2 of 2) Processing run_model, total=   0.7s\n",
      "[Voting] ........ (3 of 3) Processing XGBoost Regressor, total=   0.9s\n"
     ]
    },
    {
     "data": {
      "text/plain": [
       "VotingRegressor(estimators=[('Linear Regression Regressor',\n",
       "                             Pipeline(steps=[('tfidf',\n",
       "                                              ColumnTransformer(remainder='passthrough',\n",
       "                                                                transformers=[('tfidf1',\n",
       "                                                                               TfidfVectorizer(),\n",
       "                                                                               'Job '\n",
       "                                                                               'Title'),\n",
       "                                                                              ('tfidf2',\n",
       "                                                                               TfidfVectorizer(),\n",
       "                                                                               'Skills')])),\n",
       "                                             ('run_model', LinearRegression())],\n",
       "                                      verbose=True)),\n",
       "                            ('SGD Regressor',\n",
       "                             Pipeline(steps=[('tfidf',\n",
       "                                              ColumnTransformer(remainder='passthroug...\n",
       "                                                           interaction_constraints='',\n",
       "                                                           learning_rate=0.300000012,\n",
       "                                                           max_delta_step=0,\n",
       "                                                           max_depth=6,\n",
       "                                                           min_child_weight=1,\n",
       "                                                           missing=nan,\n",
       "                                                           monotone_constraints='()',\n",
       "                                                           n_estimators=100,\n",
       "                                                           n_jobs=8,\n",
       "                                                           num_parallel_tree=1,\n",
       "                                                           predictor='auto',\n",
       "                                                           random_state=0,\n",
       "                                                           reg_alpha=0,\n",
       "                                                           reg_lambda=1,\n",
       "                                                           scale_pos_weight=1,\n",
       "                                                           subsample=1,\n",
       "                                                           tree_method='exact',\n",
       "                                                           validate_parameters=1,\n",
       "                                                           verbosity=None))],\n",
       "                                      verbose=True))],\n",
       "                verbose=True)"
      ]
     },
     "execution_count": 57,
     "metadata": {},
     "output_type": "execute_result"
    }
   ],
   "source": [
    "vr.fit(X_train, y_train)\n",
    "vr"
   ]
  },
  {
   "cell_type": "code",
   "execution_count": 59,
   "id": "d6a9dec6",
   "metadata": {},
   "outputs": [
    {
     "name": "stdout",
     "output_type": "stream",
     "text": [
      "R2 Score: 0.9011466368488134\n",
      "RMSE: 6515.3671360886665\n"
     ]
    }
   ],
   "source": [
    "y_pred = vr.predict(X_test)\n",
    "print('R2 Score:', r2_score(y_test, y_pred))\n",
    "print('RMSE:', math.sqrt(mean_squared_error(y_test, y_pred)))"
   ]
  },
  {
   "cell_type": "code",
   "execution_count": null,
   "id": "5a96b66d",
   "metadata": {},
   "outputs": [],
   "source": []
  },
  {
   "cell_type": "markdown",
   "id": "97ff4db2",
   "metadata": {},
   "source": [
    "## Saving the model"
   ]
  },
  {
   "cell_type": "code",
   "execution_count": 61,
   "id": "036f857d",
   "metadata": {},
   "outputs": [],
   "source": [
    "import joblib"
   ]
  },
  {
   "cell_type": "code",
   "execution_count": 62,
   "id": "05c164bd",
   "metadata": {},
   "outputs": [
    {
     "data": {
      "text/plain": [
       "['salary_model_30_11.pkl']"
      ]
     },
     "execution_count": 62,
     "metadata": {},
     "output_type": "execute_result"
    }
   ],
   "source": [
    "joblib.dump(vr, 'salary_model_30_11.pkl')"
   ]
  },
  {
   "cell_type": "code",
   "execution_count": 63,
   "id": "d9b2942d",
   "metadata": {},
   "outputs": [],
   "source": [
    "joblib_model = joblib.load('salary_model_30_11.pkl')"
   ]
  },
  {
   "cell_type": "code",
   "execution_count": 64,
   "id": "703dec7d",
   "metadata": {},
   "outputs": [
    {
     "name": "stdout",
     "output_type": "stream",
     "text": [
      "R2 Score: 0.9011466368488134\n",
      "RMSE: 6515.3671360886665\n"
     ]
    }
   ],
   "source": [
    "y_pred = joblib_model.predict(X_test)\n",
    "print('R2 Score:', r2_score(y_test, y_pred))\n",
    "print('RMSE:', math.sqrt(mean_squared_error(y_test, y_pred)))"
   ]
  },
  {
   "cell_type": "code",
   "execution_count": null,
   "id": "ca0073d0",
   "metadata": {},
   "outputs": [],
   "source": []
  },
  {
   "cell_type": "code",
   "execution_count": 83,
   "id": "828e53bf",
   "metadata": {},
   "outputs": [],
   "source": [
    "rec = pd.DataFrame(X_test.iloc[5, :])"
   ]
  },
  {
   "cell_type": "code",
   "execution_count": 84,
   "id": "af084f92",
   "metadata": {},
   "outputs": [
    {
     "data": {
      "text/html": [
       "<div>\n",
       "<style scoped>\n",
       "    .dataframe tbody tr th:only-of-type {\n",
       "        vertical-align: middle;\n",
       "    }\n",
       "\n",
       "    .dataframe tbody tr th {\n",
       "        vertical-align: top;\n",
       "    }\n",
       "\n",
       "    .dataframe thead th {\n",
       "        text-align: right;\n",
       "    }\n",
       "</style>\n",
       "<table border=\"1\" class=\"dataframe\">\n",
       "  <thead>\n",
       "    <tr style=\"text-align: right;\">\n",
       "      <th></th>\n",
       "      <th>Job Title</th>\n",
       "      <th>Skills</th>\n",
       "      <th>Education_ASSOCIATE</th>\n",
       "      <th>Education_BACHELOR</th>\n",
       "      <th>Education_DOCTORATE</th>\n",
       "      <th>Education_HIGH SCHOOL</th>\n",
       "      <th>Education_MASTER</th>\n",
       "      <th>Education_NOT SPECIFIED</th>\n",
       "      <th>Education_VOCATIONAL</th>\n",
       "    </tr>\n",
       "  </thead>\n",
       "  <tbody>\n",
       "    <tr>\n",
       "      <th>6077</th>\n",
       "      <td>Sql Developer</td>\n",
       "      <td>Sql Server Reporting Services, Extract Transfo...</td>\n",
       "      <td>0</td>\n",
       "      <td>1</td>\n",
       "      <td>0</td>\n",
       "      <td>0</td>\n",
       "      <td>0</td>\n",
       "      <td>0</td>\n",
       "      <td>0</td>\n",
       "    </tr>\n",
       "  </tbody>\n",
       "</table>\n",
       "</div>"
      ],
      "text/plain": [
       "          Job Title                                             Skills  \\\n",
       "6077  Sql Developer  Sql Server Reporting Services, Extract Transfo...   \n",
       "\n",
       "     Education_ASSOCIATE Education_BACHELOR Education_DOCTORATE  \\\n",
       "6077                   0                  1                   0   \n",
       "\n",
       "     Education_HIGH SCHOOL Education_MASTER Education_NOT SPECIFIED  \\\n",
       "6077                     0                0                       0   \n",
       "\n",
       "     Education_VOCATIONAL  \n",
       "6077                    0  "
      ]
     },
     "execution_count": 84,
     "metadata": {},
     "output_type": "execute_result"
    }
   ],
   "source": [
    "rec.T"
   ]
  },
  {
   "cell_type": "code",
   "execution_count": 87,
   "id": "93fbb527",
   "metadata": {},
   "outputs": [],
   "source": [
    "y_cr = vr.predict(rec.T)"
   ]
  },
  {
   "cell_type": "code",
   "execution_count": 86,
   "id": "b7a09812",
   "metadata": {},
   "outputs": [
    {
     "data": {
      "text/plain": [
       "Salary    104000.0\n",
       "Name: 6077, dtype: float64"
      ]
     },
     "execution_count": 86,
     "metadata": {},
     "output_type": "execute_result"
    }
   ],
   "source": [
    "y_test.iloc[5, :]"
   ]
  },
  {
   "cell_type": "code",
   "execution_count": 89,
   "id": "31d4aaea",
   "metadata": {},
   "outputs": [
    {
     "data": {
      "text/plain": [
       "104031.90106751463"
      ]
     },
     "execution_count": 89,
     "metadata": {},
     "output_type": "execute_result"
    }
   ],
   "source": [
    "y_cr[0]"
   ]
  }
 ],
 "metadata": {
  "kernelspec": {
   "display_name": "Python 3 (ipykernel)",
   "language": "python",
   "name": "python3"
  },
  "language_info": {
   "codemirror_mode": {
    "name": "ipython",
    "version": 3
   },
   "file_extension": ".py",
   "mimetype": "text/x-python",
   "name": "python",
   "nbconvert_exporter": "python",
   "pygments_lexer": "ipython3",
   "version": "3.9.6"
  }
 },
 "nbformat": 4,
 "nbformat_minor": 5
}
