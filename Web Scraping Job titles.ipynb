{
 "cells": [
  {
   "cell_type": "markdown",
   "id": "acc228ce",
   "metadata": {},
   "source": [
    "_author_: **Jimit Dholakia**"
   ]
  },
  {
   "cell_type": "code",
   "execution_count": 1,
   "id": "03c8111d-9fde-40bf-a424-0e18d9723401",
   "metadata": {},
   "outputs": [],
   "source": [
    "# https://www.careerbuilder.com/browse"
   ]
  },
  {
   "cell_type": "code",
   "execution_count": 2,
   "id": "e1c0866f-5cfe-40d1-9414-6dbce2d8a702",
   "metadata": {},
   "outputs": [],
   "source": [
    "import requests\n",
    "from bs4 import BeautifulSoup\n",
    "import pandas as pd\n",
    "from pprint import pprint\n",
    "import numpy as np\n",
    "from tqdm.auto import tqdm\n",
    "import sys\n",
    "import time"
   ]
  },
  {
   "cell_type": "code",
   "execution_count": 3,
   "id": "3acc0bcb-3d1d-4fb0-86dd-27025efafd72",
   "metadata": {},
   "outputs": [],
   "source": [
    "df = pd.DataFrame(columns=['Main Category', 'Sub Category', 'Job Title'])"
   ]
  },
  {
   "cell_type": "code",
   "execution_count": 4,
   "id": "c855053c-e597-452f-ab2b-bf14bc270d66",
   "metadata": {},
   "outputs": [],
   "source": [
    "url = 'https://www.careerbuilder.com/browse'\n",
    "r = requests.get(url)\n",
    "soup = BeautifulSoup(r.content, 'html.parser')"
   ]
  },
  {
   "cell_type": "code",
   "execution_count": 5,
   "id": "d6ca0b66-c312-4271-bdf7-f17c8ff91889",
   "metadata": {},
   "outputs": [],
   "source": [
    "main_categories = soup.find_all(\"div\", class_=\"col col-mobile-full bloc\")"
   ]
  },
  {
   "cell_type": "code",
   "execution_count": 6,
   "id": "ac22b471-833c-4205-b05c-b8b919dd5c9d",
   "metadata": {},
   "outputs": [],
   "source": [
    "start = time.time()"
   ]
  },
  {
   "cell_type": "code",
   "execution_count": 7,
   "id": "eb23e990-b518-43e4-90f3-ad094cc2cf72",
   "metadata": {
    "scrolled": false
   },
   "outputs": [
    {
     "data": {
      "application/vnd.jupyter.widget-view+json": {
       "model_id": "63cbdaf98d43465485873a91dfc8210f",
       "version_major": 2,
       "version_minor": 0
      },
      "text/plain": [
       "Main Category:   0%|          | 0/12 [00:00<?, ?it/s]"
      ]
     },
     "metadata": {},
     "output_type": "display_data"
    },
    {
     "data": {
      "application/vnd.jupyter.widget-view+json": {
       "model_id": "",
       "version_major": 2,
       "version_minor": 0
      },
      "text/plain": [
       "Sub Category:   0%|          | 0/3 [00:00<?, ?it/s]"
      ]
     },
     "metadata": {},
     "output_type": "display_data"
    },
    {
     "data": {
      "application/vnd.jupyter.widget-view+json": {
       "model_id": "",
       "version_major": 2,
       "version_minor": 0
      },
      "text/plain": [
       "Title:   0%|          | 0/29 [00:00<?, ?it/s]"
      ]
     },
     "metadata": {},
     "output_type": "display_data"
    },
    {
     "data": {
      "application/vnd.jupyter.widget-view+json": {
       "model_id": "",
       "version_major": 2,
       "version_minor": 0
      },
      "text/plain": [
       "Title:   0%|          | 0/44 [00:00<?, ?it/s]"
      ]
     },
     "metadata": {},
     "output_type": "display_data"
    },
    {
     "data": {
      "application/vnd.jupyter.widget-view+json": {
       "model_id": "",
       "version_major": 2,
       "version_minor": 0
      },
      "text/plain": [
       "Title:   0%|          | 0/41 [00:00<?, ?it/s]"
      ]
     },
     "metadata": {},
     "output_type": "display_data"
    },
    {
     "data": {
      "application/vnd.jupyter.widget-view+json": {
       "model_id": "",
       "version_major": 2,
       "version_minor": 0
      },
      "text/plain": [
       "Sub Category:   0%|          | 0/2 [00:00<?, ?it/s]"
      ]
     },
     "metadata": {},
     "output_type": "display_data"
    },
    {
     "data": {
      "application/vnd.jupyter.widget-view+json": {
       "model_id": "",
       "version_major": 2,
       "version_minor": 0
      },
      "text/plain": [
       "Title:   0%|          | 0/17 [00:00<?, ?it/s]"
      ]
     },
     "metadata": {},
     "output_type": "display_data"
    },
    {
     "data": {
      "application/vnd.jupyter.widget-view+json": {
       "model_id": "",
       "version_major": 2,
       "version_minor": 0
      },
      "text/plain": [
       "Title:   0%|          | 0/7 [00:00<?, ?it/s]"
      ]
     },
     "metadata": {},
     "output_type": "display_data"
    },
    {
     "data": {
      "application/vnd.jupyter.widget-view+json": {
       "model_id": "",
       "version_major": 2,
       "version_minor": 0
      },
      "text/plain": [
       "Sub Category:   0%|          | 0/4 [00:00<?, ?it/s]"
      ]
     },
     "metadata": {},
     "output_type": "display_data"
    },
    {
     "data": {
      "application/vnd.jupyter.widget-view+json": {
       "model_id": "",
       "version_major": 2,
       "version_minor": 0
      },
      "text/plain": [
       "Title:   0%|          | 0/8 [00:00<?, ?it/s]"
      ]
     },
     "metadata": {},
     "output_type": "display_data"
    },
    {
     "data": {
      "application/vnd.jupyter.widget-view+json": {
       "model_id": "",
       "version_major": 2,
       "version_minor": 0
      },
      "text/plain": [
       "Title:   0%|          | 0/44 [00:00<?, ?it/s]"
      ]
     },
     "metadata": {},
     "output_type": "display_data"
    },
    {
     "data": {
      "application/vnd.jupyter.widget-view+json": {
       "model_id": "",
       "version_major": 2,
       "version_minor": 0
      },
      "text/plain": [
       "Title:   0%|          | 0/23 [00:00<?, ?it/s]"
      ]
     },
     "metadata": {},
     "output_type": "display_data"
    },
    {
     "data": {
      "application/vnd.jupyter.widget-view+json": {
       "model_id": "",
       "version_major": 2,
       "version_minor": 0
      },
      "text/plain": [
       "Title:   0%|          | 0/15 [00:00<?, ?it/s]"
      ]
     },
     "metadata": {},
     "output_type": "display_data"
    },
    {
     "data": {
      "application/vnd.jupyter.widget-view+json": {
       "model_id": "",
       "version_major": 2,
       "version_minor": 0
      },
      "text/plain": [
       "Sub Category:   0%|          | 0/9 [00:00<?, ?it/s]"
      ]
     },
     "metadata": {},
     "output_type": "display_data"
    },
    {
     "data": {
      "application/vnd.jupyter.widget-view+json": {
       "model_id": "",
       "version_major": 2,
       "version_minor": 0
      },
      "text/plain": [
       "Title:   0%|          | 0/25 [00:00<?, ?it/s]"
      ]
     },
     "metadata": {},
     "output_type": "display_data"
    },
    {
     "data": {
      "application/vnd.jupyter.widget-view+json": {
       "model_id": "",
       "version_major": 2,
       "version_minor": 0
      },
      "text/plain": [
       "Title:   0%|          | 0/54 [00:00<?, ?it/s]"
      ]
     },
     "metadata": {},
     "output_type": "display_data"
    },
    {
     "data": {
      "application/vnd.jupyter.widget-view+json": {
       "model_id": "",
       "version_major": 2,
       "version_minor": 0
      },
      "text/plain": [
       "Title:   0%|          | 0/61 [00:00<?, ?it/s]"
      ]
     },
     "metadata": {},
     "output_type": "display_data"
    },
    {
     "data": {
      "application/vnd.jupyter.widget-view+json": {
       "model_id": "",
       "version_major": 2,
       "version_minor": 0
      },
      "text/plain": [
       "Title:   0%|          | 0/32 [00:00<?, ?it/s]"
      ]
     },
     "metadata": {},
     "output_type": "display_data"
    },
    {
     "data": {
      "application/vnd.jupyter.widget-view+json": {
       "model_id": "",
       "version_major": 2,
       "version_minor": 0
      },
      "text/plain": [
       "Title:   0%|          | 0/40 [00:00<?, ?it/s]"
      ]
     },
     "metadata": {},
     "output_type": "display_data"
    },
    {
     "data": {
      "application/vnd.jupyter.widget-view+json": {
       "model_id": "",
       "version_major": 2,
       "version_minor": 0
      },
      "text/plain": [
       "Title:   0%|          | 0/9 [00:00<?, ?it/s]"
      ]
     },
     "metadata": {},
     "output_type": "display_data"
    },
    {
     "data": {
      "application/vnd.jupyter.widget-view+json": {
       "model_id": "",
       "version_major": 2,
       "version_minor": 0
      },
      "text/plain": [
       "Title:   0%|          | 0/32 [00:00<?, ?it/s]"
      ]
     },
     "metadata": {},
     "output_type": "display_data"
    },
    {
     "data": {
      "application/vnd.jupyter.widget-view+json": {
       "model_id": "",
       "version_major": 2,
       "version_minor": 0
      },
      "text/plain": [
       "Title:   0%|          | 0/21 [00:00<?, ?it/s]"
      ]
     },
     "metadata": {},
     "output_type": "display_data"
    },
    {
     "data": {
      "application/vnd.jupyter.widget-view+json": {
       "model_id": "",
       "version_major": 2,
       "version_minor": 0
      },
      "text/plain": [
       "Title:   0%|          | 0/71 [00:00<?, ?it/s]"
      ]
     },
     "metadata": {},
     "output_type": "display_data"
    },
    {
     "data": {
      "application/vnd.jupyter.widget-view+json": {
       "model_id": "",
       "version_major": 2,
       "version_minor": 0
      },
      "text/plain": [
       "Sub Category:   0%|          | 0/3 [00:00<?, ?it/s]"
      ]
     },
     "metadata": {},
     "output_type": "display_data"
    },
    {
     "data": {
      "application/vnd.jupyter.widget-view+json": {
       "model_id": "",
       "version_major": 2,
       "version_minor": 0
      },
      "text/plain": [
       "Title:   0%|          | 0/54 [00:00<?, ?it/s]"
      ]
     },
     "metadata": {},
     "output_type": "display_data"
    },
    {
     "data": {
      "application/vnd.jupyter.widget-view+json": {
       "model_id": "",
       "version_major": 2,
       "version_minor": 0
      },
      "text/plain": [
       "Title:   0%|          | 0/56 [00:00<?, ?it/s]"
      ]
     },
     "metadata": {},
     "output_type": "display_data"
    },
    {
     "data": {
      "application/vnd.jupyter.widget-view+json": {
       "model_id": "",
       "version_major": 2,
       "version_minor": 0
      },
      "text/plain": [
       "Title:   0%|          | 0/13 [00:00<?, ?it/s]"
      ]
     },
     "metadata": {},
     "output_type": "display_data"
    },
    {
     "data": {
      "application/vnd.jupyter.widget-view+json": {
       "model_id": "",
       "version_major": 2,
       "version_minor": 0
      },
      "text/plain": [
       "Sub Category:   0%|          | 0/5 [00:00<?, ?it/s]"
      ]
     },
     "metadata": {},
     "output_type": "display_data"
    },
    {
     "data": {
      "application/vnd.jupyter.widget-view+json": {
       "model_id": "",
       "version_major": 2,
       "version_minor": 0
      },
      "text/plain": [
       "Title:   0%|          | 0/58 [00:00<?, ?it/s]"
      ]
     },
     "metadata": {},
     "output_type": "display_data"
    },
    {
     "data": {
      "application/vnd.jupyter.widget-view+json": {
       "model_id": "",
       "version_major": 2,
       "version_minor": 0
      },
      "text/plain": [
       "Title:   0%|          | 0/75 [00:00<?, ?it/s]"
      ]
     },
     "metadata": {},
     "output_type": "display_data"
    },
    {
     "data": {
      "application/vnd.jupyter.widget-view+json": {
       "model_id": "",
       "version_major": 2,
       "version_minor": 0
      },
      "text/plain": [
       "Title:   0%|          | 0/34 [00:00<?, ?it/s]"
      ]
     },
     "metadata": {},
     "output_type": "display_data"
    },
    {
     "data": {
      "application/vnd.jupyter.widget-view+json": {
       "model_id": "",
       "version_major": 2,
       "version_minor": 0
      },
      "text/plain": [
       "Title:   0%|          | 0/31 [00:00<?, ?it/s]"
      ]
     },
     "metadata": {},
     "output_type": "display_data"
    },
    {
     "data": {
      "application/vnd.jupyter.widget-view+json": {
       "model_id": "",
       "version_major": 2,
       "version_minor": 0
      },
      "text/plain": [
       "Title:   0%|          | 0/36 [00:00<?, ?it/s]"
      ]
     },
     "metadata": {},
     "output_type": "display_data"
    },
    {
     "data": {
      "application/vnd.jupyter.widget-view+json": {
       "model_id": "",
       "version_major": 2,
       "version_minor": 0
      },
      "text/plain": [
       "Sub Category:   0%|          | 0/4 [00:00<?, ?it/s]"
      ]
     },
     "metadata": {},
     "output_type": "display_data"
    },
    {
     "data": {
      "application/vnd.jupyter.widget-view+json": {
       "model_id": "",
       "version_major": 2,
       "version_minor": 0
      },
      "text/plain": [
       "Title:   0%|          | 0/73 [00:00<?, ?it/s]"
      ]
     },
     "metadata": {},
     "output_type": "display_data"
    },
    {
     "data": {
      "application/vnd.jupyter.widget-view+json": {
       "model_id": "",
       "version_major": 2,
       "version_minor": 0
      },
      "text/plain": [
       "Title:   0%|          | 0/44 [00:00<?, ?it/s]"
      ]
     },
     "metadata": {},
     "output_type": "display_data"
    },
    {
     "data": {
      "application/vnd.jupyter.widget-view+json": {
       "model_id": "",
       "version_major": 2,
       "version_minor": 0
      },
      "text/plain": [
       "Title:   0%|          | 0/22 [00:00<?, ?it/s]"
      ]
     },
     "metadata": {},
     "output_type": "display_data"
    },
    {
     "data": {
      "application/vnd.jupyter.widget-view+json": {
       "model_id": "",
       "version_major": 2,
       "version_minor": 0
      },
      "text/plain": [
       "Title:   0%|          | 0/36 [00:00<?, ?it/s]"
      ]
     },
     "metadata": {},
     "output_type": "display_data"
    },
    {
     "data": {
      "application/vnd.jupyter.widget-view+json": {
       "model_id": "",
       "version_major": 2,
       "version_minor": 0
      },
      "text/plain": [
       "Sub Category:   0%|          | 0/3 [00:00<?, ?it/s]"
      ]
     },
     "metadata": {},
     "output_type": "display_data"
    },
    {
     "data": {
      "application/vnd.jupyter.widget-view+json": {
       "model_id": "",
       "version_major": 2,
       "version_minor": 0
      },
      "text/plain": [
       "Title:   0%|          | 0/34 [00:00<?, ?it/s]"
      ]
     },
     "metadata": {},
     "output_type": "display_data"
    },
    {
     "data": {
      "application/vnd.jupyter.widget-view+json": {
       "model_id": "",
       "version_major": 2,
       "version_minor": 0
      },
      "text/plain": [
       "Title:   0%|          | 0/74 [00:00<?, ?it/s]"
      ]
     },
     "metadata": {},
     "output_type": "display_data"
    },
    {
     "data": {
      "application/vnd.jupyter.widget-view+json": {
       "model_id": "",
       "version_major": 2,
       "version_minor": 0
      },
      "text/plain": [
       "Title:   0%|          | 0/22 [00:00<?, ?it/s]"
      ]
     },
     "metadata": {},
     "output_type": "display_data"
    },
    {
     "data": {
      "application/vnd.jupyter.widget-view+json": {
       "model_id": "",
       "version_major": 2,
       "version_minor": 0
      },
      "text/plain": [
       "Sub Category:   0%|          | 0/2 [00:00<?, ?it/s]"
      ]
     },
     "metadata": {},
     "output_type": "display_data"
    },
    {
     "data": {
      "application/vnd.jupyter.widget-view+json": {
       "model_id": "",
       "version_major": 2,
       "version_minor": 0
      },
      "text/plain": [
       "Title:   0%|          | 0/88 [00:00<?, ?it/s]"
      ]
     },
     "metadata": {},
     "output_type": "display_data"
    },
    {
     "data": {
      "application/vnd.jupyter.widget-view+json": {
       "model_id": "",
       "version_major": 2,
       "version_minor": 0
      },
      "text/plain": [
       "Title:   0%|          | 0/49 [00:00<?, ?it/s]"
      ]
     },
     "metadata": {},
     "output_type": "display_data"
    },
    {
     "data": {
      "application/vnd.jupyter.widget-view+json": {
       "model_id": "",
       "version_major": 2,
       "version_minor": 0
      },
      "text/plain": [
       "Sub Category:   0%|          | 0/2 [00:00<?, ?it/s]"
      ]
     },
     "metadata": {},
     "output_type": "display_data"
    },
    {
     "data": {
      "application/vnd.jupyter.widget-view+json": {
       "model_id": "",
       "version_major": 2,
       "version_minor": 0
      },
      "text/plain": [
       "Title:   0%|          | 0/10 [00:00<?, ?it/s]"
      ]
     },
     "metadata": {},
     "output_type": "display_data"
    },
    {
     "data": {
      "application/vnd.jupyter.widget-view+json": {
       "model_id": "",
       "version_major": 2,
       "version_minor": 0
      },
      "text/plain": [
       "Title:   0%|          | 0/45 [00:00<?, ?it/s]"
      ]
     },
     "metadata": {},
     "output_type": "display_data"
    },
    {
     "data": {
      "application/vnd.jupyter.widget-view+json": {
       "model_id": "",
       "version_major": 2,
       "version_minor": 0
      },
      "text/plain": [
       "Sub Category:   0%|          | 0/6 [00:00<?, ?it/s]"
      ]
     },
     "metadata": {},
     "output_type": "display_data"
    },
    {
     "data": {
      "application/vnd.jupyter.widget-view+json": {
       "model_id": "",
       "version_major": 2,
       "version_minor": 0
      },
      "text/plain": [
       "Title:   0%|          | 0/36 [00:00<?, ?it/s]"
      ]
     },
     "metadata": {},
     "output_type": "display_data"
    },
    {
     "data": {
      "application/vnd.jupyter.widget-view+json": {
       "model_id": "",
       "version_major": 2,
       "version_minor": 0
      },
      "text/plain": [
       "Title:   0%|          | 0/14 [00:00<?, ?it/s]"
      ]
     },
     "metadata": {},
     "output_type": "display_data"
    },
    {
     "data": {
      "application/vnd.jupyter.widget-view+json": {
       "model_id": "",
       "version_major": 2,
       "version_minor": 0
      },
      "text/plain": [
       "Title:   0%|          | 0/31 [00:00<?, ?it/s]"
      ]
     },
     "metadata": {},
     "output_type": "display_data"
    },
    {
     "data": {
      "application/vnd.jupyter.widget-view+json": {
       "model_id": "",
       "version_major": 2,
       "version_minor": 0
      },
      "text/plain": [
       "Title:   0%|          | 0/25 [00:00<?, ?it/s]"
      ]
     },
     "metadata": {},
     "output_type": "display_data"
    },
    {
     "data": {
      "application/vnd.jupyter.widget-view+json": {
       "model_id": "",
       "version_major": 2,
       "version_minor": 0
      },
      "text/plain": [
       "Title:   0%|          | 0/27 [00:00<?, ?it/s]"
      ]
     },
     "metadata": {},
     "output_type": "display_data"
    },
    {
     "data": {
      "application/vnd.jupyter.widget-view+json": {
       "model_id": "",
       "version_major": 2,
       "version_minor": 0
      },
      "text/plain": [
       "Title:   0%|          | 0/53 [00:00<?, ?it/s]"
      ]
     },
     "metadata": {},
     "output_type": "display_data"
    },
    {
     "data": {
      "application/vnd.jupyter.widget-view+json": {
       "model_id": "",
       "version_major": 2,
       "version_minor": 0
      },
      "text/plain": [
       "Sub Category:   0%|          | 0/2 [00:00<?, ?it/s]"
      ]
     },
     "metadata": {},
     "output_type": "display_data"
    },
    {
     "data": {
      "application/vnd.jupyter.widget-view+json": {
       "model_id": "",
       "version_major": 2,
       "version_minor": 0
      },
      "text/plain": [
       "Title:   0%|          | 0/34 [00:00<?, ?it/s]"
      ]
     },
     "metadata": {},
     "output_type": "display_data"
    },
    {
     "data": {
      "application/vnd.jupyter.widget-view+json": {
       "model_id": "",
       "version_major": 2,
       "version_minor": 0
      },
      "text/plain": [
       "Title:   0%|          | 0/71 [00:00<?, ?it/s]"
      ]
     },
     "metadata": {},
     "output_type": "display_data"
    }
   ],
   "source": [
    "df = pd.DataFrame(columns=['Main Category', 'Sub Category', 'Sub Category Link', 'Job Title', 'Job Title Link', 'Salary', 'Salary Link'])\n",
    "# output = {}\n",
    "for element in tqdm(main_categories, desc='Main Category'):\n",
    "    main_category_name = element.find('h3')\n",
    "    sub_cat = element.find_all('li')\n",
    "    \n",
    "    sub_cat_list = []\n",
    "    for sub_cat_name in tqdm(sub_cat, leave=False, desc='Sub Category'):\n",
    "        x = sub_cat_name.find('a')\n",
    "        \n",
    "        sub_cat_link = 'https://www.careerbuilder.com' + x.get('href')\n",
    "        sub_cat_name = x.text\n",
    "        \n",
    "        r1 = requests.get(sub_cat_link)\n",
    "        soup1 = BeautifulSoup(r1.content, 'html.parser')\n",
    "        \n",
    "        titles = soup1.find_all(\"div\", class_=\"col link-list col-mobile-full\")\n",
    "        \n",
    "        for title in tqdm(titles, leave=False, desc='Title'):           \n",
    "                        \n",
    "            title_name = title.find('a')\n",
    "            title_link = 'https://www.careerbuilder.com' + title_name.get('href')\n",
    "            \n",
    "            print_text = title_name.text + ' ' * (100 - len(title_name.text))\n",
    "#             print('Running for Title: ' + print_text , end='\\r')\n",
    "            \n",
    "#             sys.stdout.write(\"\\rRunning for Title: \" + title_name.text)\n",
    "#             sys.stdout.flush()\n",
    "\n",
    "\n",
    "            try:\n",
    "                r2 = requests.get(title_link)\n",
    "                soup2 = BeautifulSoup(r2.content, 'html.parser')        \n",
    "                salary_info = soup2.find(\"div\", class_='salary-information')\n",
    "                salary = salary_info.find('a').text\n",
    "                \n",
    "                salary_link = 'https://www.careerbuilder.com' + salary_info.find('a').get('href')\n",
    "                \n",
    "                try:\n",
    "                    r3 = requests.get(salary_link)\n",
    "                    soup3 = BeautifulSoup(r3.content, 'html.parser')\n",
    "                except:\n",
    "                    pass\n",
    "                \n",
    "#                 Average National Salary\n",
    "                try:\n",
    "                    avg_salary = soup3.find_all(\"div\", class_=\"fl-l\")[0].text\n",
    "                except:\n",
    "                    avg_salary = np.nan\n",
    "                    \n",
    "                    \n",
    "#                 Skills by Educational Level\n",
    "                edu_dict = {}\n",
    "    \n",
    "                try:\n",
    "                    edu_salaries = soup3.find_all(\"div\", class_=\"educational-link\")\n",
    "\n",
    "                    for edu_salary in edu_salaries:\n",
    "                        edu_dict[edu_salary.find('span', class_=\"small-font\").text] = edu_salary.find('h3').text\n",
    "                except:\n",
    "                    edu_dict = {}\n",
    "                    \n",
    "                    \n",
    "                    \n",
    "#                 Skills\n",
    "                skills_list = []  \n",
    "                try:\n",
    "                    skills_list_soup = soup3.find_all('div', class_='block salary-page-skills')[0].find_all('span', class_='bubble-link dn-i')\n",
    "\n",
    "                    for skill in skills_list_soup:\n",
    "                        skills_list.append(skill.text)\n",
    "                \n",
    "                except:\n",
    "                    skills_list = []\n",
    "                    \n",
    "                \n",
    "#                 No. of candidates and no. of jobs\n",
    "                \n",
    "                try:\n",
    "                    cand_jobs = soup3.find_all('div', class_='block salary-jobs-box')\n",
    "                    num_candidates = cand_jobs[0].find_all('div', class_='bloc')[0].find('h1').text\n",
    "                except:\n",
    "                    num_candidates = np.nan\n",
    "                    \n",
    "                \n",
    "                try:\n",
    "                    num_jobs = cand_jobs[0].find_all('div', class_='bloc')[1].find('h1').text\n",
    "                except:\n",
    "                    num_jobs = np.nan\n",
    "                \n",
    "                \n",
    "            except:\n",
    "                salary = np.nan\n",
    "                salary_link = ''\n",
    "                edu_dict = {}\n",
    "                avg_salary = np.nan\n",
    "                skills_list = []\n",
    "                num_candidates = np.nan\n",
    "                num_jobs = np.nan\n",
    "                \n",
    "            \n",
    "            df_row = {\n",
    "                'Main Category': main_category_name.text, \n",
    "              'Sub Category': sub_cat_name, \n",
    "              'Sub Category Link': sub_cat_link,\n",
    "              'Job Title': title_name.text,\n",
    "              'Job Title Link': title_link,\n",
    "              'Salary': salary,\n",
    "               'Salary Link': salary_link,\n",
    "                'Average Salary': avg_salary,\n",
    "                'Educational Levels': edu_dict,\n",
    "                'Skills': skills_list,\n",
    "                'No of Candidates': num_candidates,\n",
    "                'No of Jobs': num_jobs\n",
    "            }\n",
    "            \n",
    "            \n",
    "            df = df.append(df_row, ignore_index=True)\n",
    "    \n",
    "    filename = 'Job Info_311021_' + str(main_categories.index(element)) + '.csv'\n",
    "    df.to_csv(filename, index=False)"
   ]
  },
  {
   "cell_type": "code",
   "execution_count": 8,
   "id": "a48f504a",
   "metadata": {},
   "outputs": [
    {
     "name": "stdout",
     "output_type": "stream",
     "text": [
      "Time Taken: 4235.348042726517 seconds\n"
     ]
    }
   ],
   "source": [
    "end = time.time()\n",
    "print('Time Taken:', end-start, 'seconds')"
   ]
  },
  {
   "cell_type": "code",
   "execution_count": 9,
   "id": "b8870506-7fc1-4494-811a-3f52b87d9210",
   "metadata": {},
   "outputs": [
    {
     "name": "stdout",
     "output_type": "stream",
     "text": [
      "(1718, 12)\n"
     ]
    }
   ],
   "source": [
    "print(df.shape)"
   ]
  },
  {
   "cell_type": "code",
   "execution_count": 10,
   "id": "a118cc41-5111-42f9-85fe-9d7aa6c4a987",
   "metadata": {},
   "outputs": [],
   "source": [
    "df.to_csv('Job Information.csv', index=False)"
   ]
  },
  {
   "cell_type": "code",
   "execution_count": 11,
   "id": "7a977842-e425-4ad7-bbc9-0209bd5eac85",
   "metadata": {},
   "outputs": [
    {
     "name": "stdout",
     "output_type": "stream",
     "text": [
      "Complete! Yay!!\n"
     ]
    }
   ],
   "source": [
    "print('Complete! Yay!!')"
   ]
  },
  {
   "cell_type": "code",
   "execution_count": 12,
   "id": "c4a34f51",
   "metadata": {},
   "outputs": [
    {
     "name": "stdout",
     "output_type": "stream",
     "text": [
      "Done!\n"
     ]
    }
   ],
   "source": [
    "print('Done!')"
   ]
  },
  {
   "cell_type": "raw",
   "id": "9316f29d",
   "metadata": {},
   "source": [
    "r = requests.get('https://www.careerbuilder.com/salary-python-developer')\n",
    "soup = BeautifulSoup(r.content, 'html.parser')"
   ]
  },
  {
   "cell_type": "raw",
   "id": "ca458f39",
   "metadata": {},
   "source": [
    "soup.find_all(\"div\", class_=\"fl-l\")[0].text\n"
   ]
  },
  {
   "cell_type": "raw",
   "id": "d04d4adb",
   "metadata": {},
   "source": [
    "edu_salaries = soup.find_all(\"div\", class_=\"educational-link\")\n",
    "\n",
    "edu_salaries[0].find('h3').text\n",
    "edu_salaries[0].find('span', class_=\"small-font\").text"
   ]
  },
  {
   "cell_type": "raw",
   "id": "3c7921fb",
   "metadata": {},
   "source": [
    "skills_list_soup = soup.find_all('div', class_='block salary-page-skills')[0].find_all('span', class_='bubble-link dn-i')\n",
    "\n",
    "for skill in skills_list_soup:\n",
    "    print(skill.text)\n"
   ]
  },
  {
   "cell_type": "raw",
   "id": "cfdcfbe1",
   "metadata": {},
   "source": [
    "skills = soup.find_all('div', class_='block salary-page-skills')\n",
    "\n",
    "skills_list = skills[0].find_all('span', class_='bubble-link dn-i')\n",
    "\n",
    "skills_list[0].text"
   ]
  },
  {
   "cell_type": "raw",
   "id": "acc07d63",
   "metadata": {},
   "source": [
    "cand_jobs = soup.find_all('div', class_='block salary-jobs-box')\n",
    "\n",
    "cand_jobs[0].find_all('div', class_='bloc')[0].find('h1').text\n",
    "# cand.find('h1').text\n",
    "\n",
    "# num_jobs = cand_jobs[0].find_all('div', class_='bloc')[1]\n",
    "# num_jobs.find('h1').text"
   ]
  },
  {
   "cell_type": "raw",
   "id": "488911f6",
   "metadata": {},
   "source": []
  },
  {
   "cell_type": "raw",
   "id": "1d53f516",
   "metadata": {},
   "source": [
    "import pandas as pd\n",
    "\n",
    "df = pd.DataFrame({'a':[1,2,3],\n",
    "                   'b':[{'x':1, 'y':2}, {'x':3, 'z':4}, {'y':5, 'z':6}]\n",
    "                   })\n",
    "\n",
    "\n",
    "pd.json_normalize(df['b'])\n",
    "\n",
    "pd.concat([df,pd.json_normalize(df['b'])], axis=1)\n"
   ]
  },
  {
   "cell_type": "raw",
   "id": "62fa6fc6",
   "metadata": {},
   "source": [
    "import time\n",
    "for i in range(1, 10):\n",
    "    for j in range(i, 10):\n",
    "        for k in range(j, 10):\n",
    "            sys.stdout.write(\"\\rRunning\", title_name.text)\n",
    "            sys.stdout.flush()\n",
    "            time.sleep(0.5)"
   ]
  },
  {
   "cell_type": "raw",
   "id": "4385aa69",
   "metadata": {},
   "source": [
    "titles"
   ]
  },
  {
   "cell_type": "raw",
   "id": "e5c2d626",
   "metadata": {},
   "source": [
    "for element in main_categories:\n",
    "    print(main_categories.index(element))"
   ]
  },
  {
   "cell_type": "raw",
   "id": "eee177d9",
   "metadata": {},
   "source": [
    "print('X')"
   ]
  }
 ],
 "metadata": {
  "kernelspec": {
   "display_name": "Python 3 (ipykernel)",
   "language": "python",
   "name": "python3"
  },
  "language_info": {
   "codemirror_mode": {
    "name": "ipython",
    "version": 3
   },
   "file_extension": ".py",
   "mimetype": "text/x-python",
   "name": "python",
   "nbconvert_exporter": "python",
   "pygments_lexer": "ipython3",
   "version": "3.9.6"
  }
 },
 "nbformat": 4,
 "nbformat_minor": 5
}
